{
 "cells": [
  {
   "cell_type": "code",
   "execution_count": 2,
   "metadata": {},
   "outputs": [],
   "source": [
    "import pandas as pd\n",
    "#import matplotlib\n",
    "from plotnine import *\n"
   ]
  },
  {
   "cell_type": "code",
   "execution_count": 3,
   "metadata": {},
   "outputs": [
    {
     "data": {
      "text/html": [
       "<div>\n",
       "<style scoped>\n",
       "    .dataframe tbody tr th:only-of-type {\n",
       "        vertical-align: middle;\n",
       "    }\n",
       "\n",
       "    .dataframe tbody tr th {\n",
       "        vertical-align: top;\n",
       "    }\n",
       "\n",
       "    .dataframe thead th {\n",
       "        text-align: right;\n",
       "    }\n",
       "</style>\n",
       "<table border=\"1\" class=\"dataframe\">\n",
       "  <thead>\n",
       "    <tr style=\"text-align: right;\">\n",
       "      <th></th>\n",
       "      <th>InvoiceNo</th>\n",
       "      <th>StoreId</th>\n",
       "      <th>StockCode</th>\n",
       "      <th>Description</th>\n",
       "      <th>Quantity</th>\n",
       "      <th>InvoiceDate</th>\n",
       "      <th>UnitPrice</th>\n",
       "      <th>CustomerID</th>\n",
       "      <th>Country</th>\n",
       "    </tr>\n",
       "  </thead>\n",
       "  <tbody>\n",
       "    <tr>\n",
       "      <th>0</th>\n",
       "      <td>536365</td>\n",
       "      <td>11</td>\n",
       "      <td>85123A</td>\n",
       "      <td>WHITE HANGING HEART T-LIGHT HOLDER</td>\n",
       "      <td>6</td>\n",
       "      <td>12/01/10 08:26</td>\n",
       "      <td>2.55</td>\n",
       "      <td>17850.0</td>\n",
       "      <td>United Kingdom</td>\n",
       "    </tr>\n",
       "    <tr>\n",
       "      <th>1</th>\n",
       "      <td>536365</td>\n",
       "      <td>9</td>\n",
       "      <td>71053</td>\n",
       "      <td>WHITE METAL LANTERN</td>\n",
       "      <td>6</td>\n",
       "      <td>12/01/10 08:26</td>\n",
       "      <td>3.39</td>\n",
       "      <td>17850.0</td>\n",
       "      <td>United Kingdom</td>\n",
       "    </tr>\n",
       "    <tr>\n",
       "      <th>2</th>\n",
       "      <td>536365</td>\n",
       "      <td>17</td>\n",
       "      <td>84406B</td>\n",
       "      <td>CREAM CUPID HEARTS COAT HANGER</td>\n",
       "      <td>8</td>\n",
       "      <td>12/01/10 08:26</td>\n",
       "      <td>2.75</td>\n",
       "      <td>17850.0</td>\n",
       "      <td>United Kingdom</td>\n",
       "    </tr>\n",
       "    <tr>\n",
       "      <th>3</th>\n",
       "      <td>536365</td>\n",
       "      <td>15</td>\n",
       "      <td>84029G</td>\n",
       "      <td>KNITTED UNION FLAG HOT WATER BOTTLE</td>\n",
       "      <td>6</td>\n",
       "      <td>12/01/10 08:26</td>\n",
       "      <td>3.39</td>\n",
       "      <td>17850.0</td>\n",
       "      <td>United Kingdom</td>\n",
       "    </tr>\n",
       "    <tr>\n",
       "      <th>4</th>\n",
       "      <td>536365</td>\n",
       "      <td>17</td>\n",
       "      <td>84029E</td>\n",
       "      <td>RED WOOLLY HOTTIE WHITE HEART.</td>\n",
       "      <td>6</td>\n",
       "      <td>12/01/10 08:26</td>\n",
       "      <td>3.39</td>\n",
       "      <td>17850.0</td>\n",
       "      <td>United Kingdom</td>\n",
       "    </tr>\n",
       "  </tbody>\n",
       "</table>\n",
       "</div>"
      ],
      "text/plain": [
       "  InvoiceNo StoreId StockCode                          Description  Quantity  \\\n",
       "0    536365      11    85123A   WHITE HANGING HEART T-LIGHT HOLDER         6   \n",
       "1    536365       9     71053                  WHITE METAL LANTERN         6   \n",
       "2    536365      17    84406B       CREAM CUPID HEARTS COAT HANGER         8   \n",
       "3    536365      15    84029G  KNITTED UNION FLAG HOT WATER BOTTLE         6   \n",
       "4    536365      17    84029E       RED WOOLLY HOTTIE WHITE HEART.         6   \n",
       "\n",
       "      InvoiceDate  UnitPrice  CustomerID         Country  \n",
       "0  12/01/10 08:26       2.55     17850.0  United Kingdom  \n",
       "1  12/01/10 08:26       3.39     17850.0  United Kingdom  \n",
       "2  12/01/10 08:26       2.75     17850.0  United Kingdom  \n",
       "3  12/01/10 08:26       3.39     17850.0  United Kingdom  \n",
       "4  12/01/10 08:26       3.39     17850.0  United Kingdom  "
      ]
     },
     "execution_count": 3,
     "metadata": {},
     "output_type": "execute_result"
    }
   ],
   "source": [
    "df = pd.read_csv(\"../teste_dados_ecommerce.csv\", sep=\";\",encoding= 'unicode_escape', dtype={'InvoiceNo': 'object','StoreId': 'object'} )\n",
    "df.head()"
   ]
  },
  {
   "cell_type": "code",
   "execution_count": 4,
   "metadata": {},
   "outputs": [],
   "source": [
    "df[\"PurchaseValue\"] = df[\"Quantity\"] * df[\"UnitPrice\"]\n",
    "pinkColors = [\"#FA3C8A\", \"#000000\", \"#370117\", \"#6E022F\", \"#A50446\", \"#DD055E\", \"#F9217A\", \"#FA599B\", \"#FC90BC\", \"#FDC7DD\"]\n"
   ]
  },
  {
   "cell_type": "code",
   "execution_count": 5,
   "metadata": {},
   "outputs": [
    {
     "name": "stderr",
     "output_type": "stream",
     "text": [
      "C:\\Users\\Mateus\\AppData\\Local\\Temp\\ipykernel_26988\\4210267267.py:4: FutureWarning: Indexing with multiple keys (implicitly converted to a tuple of keys) will be deprecated, use a list instead.\n"
     ]
    },
    {
     "data": {
      "text/html": [
       "<div>\n",
       "<style scoped>\n",
       "    .dataframe tbody tr th:only-of-type {\n",
       "        vertical-align: middle;\n",
       "    }\n",
       "\n",
       "    .dataframe tbody tr th {\n",
       "        vertical-align: top;\n",
       "    }\n",
       "\n",
       "    .dataframe thead th {\n",
       "        text-align: right;\n",
       "    }\n",
       "</style>\n",
       "<table border=\"1\" class=\"dataframe\">\n",
       "  <thead>\n",
       "    <tr style=\"text-align: right;\">\n",
       "      <th></th>\n",
       "      <th>StoreId</th>\n",
       "      <th>Quantity</th>\n",
       "      <th>PurchaseValue</th>\n",
       "    </tr>\n",
       "  </thead>\n",
       "  <tbody>\n",
       "    <tr>\n",
       "      <th>8</th>\n",
       "      <td>17</td>\n",
       "      <td>351969</td>\n",
       "      <td>692392.120</td>\n",
       "    </tr>\n",
       "    <tr>\n",
       "      <th>14</th>\n",
       "      <td>4</td>\n",
       "      <td>359687</td>\n",
       "      <td>648217.880</td>\n",
       "    </tr>\n",
       "    <tr>\n",
       "      <th>4</th>\n",
       "      <td>13</td>\n",
       "      <td>277927</td>\n",
       "      <td>548195.710</td>\n",
       "    </tr>\n",
       "    <tr>\n",
       "      <th>7</th>\n",
       "      <td>16</td>\n",
       "      <td>264426</td>\n",
       "      <td>536429.950</td>\n",
       "    </tr>\n",
       "    <tr>\n",
       "      <th>0</th>\n",
       "      <td>1</td>\n",
       "      <td>269760</td>\n",
       "      <td>525055.821</td>\n",
       "    </tr>\n",
       "    <tr>\n",
       "      <th>11</th>\n",
       "      <td>2</td>\n",
       "      <td>268378</td>\n",
       "      <td>523368.440</td>\n",
       "    </tr>\n",
       "    <tr>\n",
       "      <th>13</th>\n",
       "      <td>3</td>\n",
       "      <td>267364</td>\n",
       "      <td>522640.490</td>\n",
       "    </tr>\n",
       "    <tr>\n",
       "      <th>19</th>\n",
       "      <td>9</td>\n",
       "      <td>278195</td>\n",
       "      <td>521955.310</td>\n",
       "    </tr>\n",
       "    <tr>\n",
       "      <th>15</th>\n",
       "      <td>5</td>\n",
       "      <td>266774</td>\n",
       "      <td>521898.120</td>\n",
       "    </tr>\n",
       "    <tr>\n",
       "      <th>6</th>\n",
       "      <td>15</td>\n",
       "      <td>276156</td>\n",
       "      <td>521226.120</td>\n",
       "    </tr>\n",
       "  </tbody>\n",
       "</table>\n",
       "</div>"
      ],
      "text/plain": [
       "   StoreId  Quantity  PurchaseValue\n",
       "8       17    351969     692392.120\n",
       "14       4    359687     648217.880\n",
       "4       13    277927     548195.710\n",
       "7       16    264426     536429.950\n",
       "0        1    269760     525055.821\n",
       "11       2    268378     523368.440\n",
       "13       3    267364     522640.490\n",
       "19       9    278195     521955.310\n",
       "15       5    266774     521898.120\n",
       "6       15    276156     521226.120"
      ]
     },
     "execution_count": 5,
     "metadata": {},
     "output_type": "execute_result"
    }
   ],
   "source": [
    "# Insight 1: 10 lojas com os maiores faturamentos em pedidos\n",
    "# Insight 1.1: Volume total de items de venda para as 10 lojas com maior faturamento em pedidos\n",
    "insight1 = df\n",
    "insight1 = insight1.loc[\n",
    "    insight1['PurchaseValue'] > 0,\n",
    "    ('StoreId','Quantity','PurchaseValue')].groupby('StoreId', as_index=False)[\n",
    "            'Quantity',\n",
    "            'PurchaseValue'\n",
    "        ].sum().sort_values(by=\"PurchaseValue\", ascending=False).head(10)\n",
    "insight1"
   ]
  },
  {
   "cell_type": "code",
   "execution_count": 6,
   "metadata": {},
   "outputs": [
    {
     "name": "stderr",
     "output_type": "stream",
     "text": [
      "C:\\Users\\Mateus\\AppData\\Roaming\\Python\\Python310\\site-packages\\plotnine\\scales\\scale.py:102: PlotnineWarning: scale_fill_manual could not recognise parameter `rect`\n"
     ]
    }
   ],
   "source": [
    "plotInsight1 = ggplot(insight1, aes(\n",
    "        x='reorder(StoreId, -PurchaseValue)', \n",
    "        y='PurchaseValue',\n",
    "        fill = 'StoreId')\n",
    "    ) + geom_bar(\n",
    "        stat='identity'\n",
    "    ) + scale_fill_manual(\n",
    "        values = pinkColors,\n",
    "        guide=False\n",
    "    ) + theme_minimal(\n",
    "    ) + theme( plot_title = element_text(hjust = 0.5, size = 24),\n",
    "        axis_text_y = element_text(size = 20, hjust = 1), \n",
    "        panel_background = element_rect(fill = 'grey'),\n",
    "    ) + labs(\n",
    "        title=\"Insight 1: 10 lojas com os maiores faturamentos em pedidos\",\n",
    "        x =\"StoreId\", \n",
    "        y = \"PurchaseValue\"\n",
    "    ) "
   ]
  },
  {
   "cell_type": "code",
   "execution_count": 7,
   "metadata": {},
   "outputs": [],
   "source": [
    "plotInsight1_1 =  ggplot(\n",
    "        insight1, aes(\n",
    "            x =  'reorder(StoreId, PurchaseValue)', \n",
    "            y = 'Quantity',fill = 'StoreId')\n",
    "        ) + geom_bar(\n",
    "            stat= \"identity\"\n",
    "        ) + coord_flip(\n",
    "        ) + theme_minimal(\n",
    "        ) + scale_fill_manual(\n",
    "            guide=False,\n",
    "            values = pinkColors\n",
    "        )+ theme( \n",
    "            \n",
    "            panel_background = element_rect(fill = 'grey')\n",
    "        ) + labs(\n",
    "            title=\"Insight 1.1: Volume total de items de venda para as 10 lojas com maior faturamento em pedidos \\n ordenado por maior faturamento\",\n",
    "            x =\"StoreId\", \n",
    "            y = \"sumQuantity\",\n",
    "            fill=\"none\"\n",
    "        )"
   ]
  },
  {
   "cell_type": "code",
   "execution_count": 8,
   "metadata": {},
   "outputs": [
    {
     "name": "stderr",
     "output_type": "stream",
     "text": [
      "C:\\Users\\Mateus\\AppData\\Roaming\\Python\\Python310\\site-packages\\plotnine\\ggplot.py:719: PlotnineWarning: Saving 30.0 x 25.0 cm image.\n",
      "C:\\Users\\Mateus\\AppData\\Roaming\\Python\\Python310\\site-packages\\plotnine\\ggplot.py:722: PlotnineWarning: Filename: Insight1.jpeg\n",
      "C:\\Users\\Mateus\\AppData\\Roaming\\Python\\Python310\\site-packages\\plotnine\\ggplot.py:719: PlotnineWarning: Saving 30.0 x 25.0 cm image.\n",
      "C:\\Users\\Mateus\\AppData\\Roaming\\Python\\Python310\\site-packages\\plotnine\\ggplot.py:722: PlotnineWarning: Filename: Insight1.1.jpeg\n"
     ]
    }
   ],
   "source": [
    "plotInsight1.save(filename = 'Insight1.jpeg', height=25, width=30, units = 'cm')\n",
    "plotInsight1_1.save(filename = 'Insight1.1.jpeg', height=25, width=30, units = 'cm')"
   ]
  }
 ],
 "metadata": {
  "interpreter": {
   "hash": "b89b5cfaba6639976dc87ff2fec6d58faec662063367e2c229c520fe71072417"
  },
  "kernelspec": {
   "display_name": "Python 3.10.4 64-bit",
   "language": "python",
   "name": "python3"
  },
  "language_info": {
   "codemirror_mode": {
    "name": "ipython",
    "version": 3
   },
   "file_extension": ".py",
   "mimetype": "text/x-python",
   "name": "python",
   "nbconvert_exporter": "python",
   "pygments_lexer": "ipython3",
   "version": "3.10.4"
  },
  "orig_nbformat": 4
 },
 "nbformat": 4,
 "nbformat_minor": 2
}
