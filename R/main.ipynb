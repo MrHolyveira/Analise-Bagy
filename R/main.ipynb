{
 "cells": [
  {
   "cell_type": "code",
   "execution_count": 242,
   "metadata": {
    "vscode": {
     "languageId": "r"
    }
   },
   "outputs": [],
   "source": [
    "#install.packages(\"tidyverse\")\n",
    "#install.packages(\"anytime\")\n",
    "#install.packages(\"maps\")\n",
    "#install.packages(\"scales\")\n"
   ]
  },
  {
   "cell_type": "code",
   "execution_count": 243,
   "metadata": {
    "vscode": {
     "languageId": "r"
    }
   },
   "outputs": [],
   "source": [
    "library(tidyverse) \n",
    "library(lubridate)\n",
    "library(anytime)\n",
    "library(maps)\n",
    "library(scales)"
   ]
  },
  {
   "cell_type": "code",
   "execution_count": 244,
   "metadata": {
    "vscode": {
     "languageId": "r"
    }
   },
   "outputs": [],
   "source": [
    "# Cores para os plots\n",
    "pinkColors <- c(\"#FA3C8A\", \"#000000\", \"#370117\", \"#6E022F\", \"#A50446\", \"#DD055E\", \"#F9217A\", \"#FA599B\", \"#FC90BC\", \"#FDC7DD\")"
   ]
  },
  {
   "cell_type": "code",
   "execution_count": 245,
   "metadata": {
    "vscode": {
     "languageId": "r"
    }
   },
   "outputs": [],
   "source": [
    "df <- read.csv2(\"../teste_dados_ecommerce.csv\")"
   ]
  },
  {
   "cell_type": "code",
   "execution_count": 246,
   "metadata": {
    "vscode": {
     "languageId": "r"
    }
   },
   "outputs": [
    {
     "data": {
      "text/html": [
       "<table class=\"dataframe\">\n",
       "<caption>A data.frame: 6 × 9</caption>\n",
       "<thead>\n",
       "\t<tr><th></th><th scope=col>InvoiceNo</th><th scope=col>StoreId</th><th scope=col>StockCode</th><th scope=col>Description</th><th scope=col>Quantity</th><th scope=col>InvoiceDate</th><th scope=col>UnitPrice</th><th scope=col>CustomerID</th><th scope=col>Country</th></tr>\n",
       "\t<tr><th></th><th scope=col>&lt;chr&gt;</th><th scope=col>&lt;int&gt;</th><th scope=col>&lt;chr&gt;</th><th scope=col>&lt;chr&gt;</th><th scope=col>&lt;int&gt;</th><th scope=col>&lt;chr&gt;</th><th scope=col>&lt;chr&gt;</th><th scope=col>&lt;int&gt;</th><th scope=col>&lt;chr&gt;</th></tr>\n",
       "</thead>\n",
       "<tbody>\n",
       "\t<tr><th scope=row>1</th><td>536365</td><td>11</td><td>85123A</td><td>WHITE HANGING HEART T-LIGHT HOLDER </td><td>6</td><td>12/01/10 08:26</td><td>2.55</td><td>17850</td><td>United Kingdom</td></tr>\n",
       "\t<tr><th scope=row>2</th><td>536365</td><td> 9</td><td>71053 </td><td>WHITE METAL LANTERN                </td><td>6</td><td>12/01/10 08:26</td><td>3.39</td><td>17850</td><td>United Kingdom</td></tr>\n",
       "\t<tr><th scope=row>3</th><td>536365</td><td>17</td><td>84406B</td><td>CREAM CUPID HEARTS COAT HANGER     </td><td>8</td><td>12/01/10 08:26</td><td>2.75</td><td>17850</td><td>United Kingdom</td></tr>\n",
       "\t<tr><th scope=row>4</th><td>536365</td><td>15</td><td>84029G</td><td>KNITTED UNION FLAG HOT WATER BOTTLE</td><td>6</td><td>12/01/10 08:26</td><td>3.39</td><td>17850</td><td>United Kingdom</td></tr>\n",
       "\t<tr><th scope=row>5</th><td>536365</td><td>17</td><td>84029E</td><td>RED WOOLLY HOTTIE WHITE HEART.     </td><td>6</td><td>12/01/10 08:26</td><td>3.39</td><td>17850</td><td>United Kingdom</td></tr>\n",
       "\t<tr><th scope=row>6</th><td>536365</td><td> 2</td><td>22752 </td><td>SET 7 BABUSHKA NESTING BOXES       </td><td>2</td><td>12/01/10 08:26</td><td>7.65</td><td>17850</td><td>United Kingdom</td></tr>\n",
       "</tbody>\n",
       "</table>\n"
      ],
      "text/latex": [
       "A data.frame: 6 × 9\n",
       "\\begin{tabular}{r|lllllllll}\n",
       "  & InvoiceNo & StoreId & StockCode & Description & Quantity & InvoiceDate & UnitPrice & CustomerID & Country\\\\\n",
       "  & <chr> & <int> & <chr> & <chr> & <int> & <chr> & <chr> & <int> & <chr>\\\\\n",
       "\\hline\n",
       "\t1 & 536365 & 11 & 85123A & WHITE HANGING HEART T-LIGHT HOLDER  & 6 & 12/01/10 08:26 & 2.55 & 17850 & United Kingdom\\\\\n",
       "\t2 & 536365 &  9 & 71053  & WHITE METAL LANTERN                 & 6 & 12/01/10 08:26 & 3.39 & 17850 & United Kingdom\\\\\n",
       "\t3 & 536365 & 17 & 84406B & CREAM CUPID HEARTS COAT HANGER      & 8 & 12/01/10 08:26 & 2.75 & 17850 & United Kingdom\\\\\n",
       "\t4 & 536365 & 15 & 84029G & KNITTED UNION FLAG HOT WATER BOTTLE & 6 & 12/01/10 08:26 & 3.39 & 17850 & United Kingdom\\\\\n",
       "\t5 & 536365 & 17 & 84029E & RED WOOLLY HOTTIE WHITE HEART.      & 6 & 12/01/10 08:26 & 3.39 & 17850 & United Kingdom\\\\\n",
       "\t6 & 536365 &  2 & 22752  & SET 7 BABUSHKA NESTING BOXES        & 2 & 12/01/10 08:26 & 7.65 & 17850 & United Kingdom\\\\\n",
       "\\end{tabular}\n"
      ],
      "text/markdown": [
       "\n",
       "A data.frame: 6 × 9\n",
       "\n",
       "| <!--/--> | InvoiceNo &lt;chr&gt; | StoreId &lt;int&gt; | StockCode &lt;chr&gt; | Description &lt;chr&gt; | Quantity &lt;int&gt; | InvoiceDate &lt;chr&gt; | UnitPrice &lt;chr&gt; | CustomerID &lt;int&gt; | Country &lt;chr&gt; |\n",
       "|---|---|---|---|---|---|---|---|---|---|\n",
       "| 1 | 536365 | 11 | 85123A | WHITE HANGING HEART T-LIGHT HOLDER  | 6 | 12/01/10 08:26 | 2.55 | 17850 | United Kingdom |\n",
       "| 2 | 536365 |  9 | 71053  | WHITE METAL LANTERN                 | 6 | 12/01/10 08:26 | 3.39 | 17850 | United Kingdom |\n",
       "| 3 | 536365 | 17 | 84406B | CREAM CUPID HEARTS COAT HANGER      | 8 | 12/01/10 08:26 | 2.75 | 17850 | United Kingdom |\n",
       "| 4 | 536365 | 15 | 84029G | KNITTED UNION FLAG HOT WATER BOTTLE | 6 | 12/01/10 08:26 | 3.39 | 17850 | United Kingdom |\n",
       "| 5 | 536365 | 17 | 84029E | RED WOOLLY HOTTIE WHITE HEART.      | 6 | 12/01/10 08:26 | 3.39 | 17850 | United Kingdom |\n",
       "| 6 | 536365 |  2 | 22752  | SET 7 BABUSHKA NESTING BOXES        | 2 | 12/01/10 08:26 | 7.65 | 17850 | United Kingdom |\n",
       "\n"
      ],
      "text/plain": [
       "  InvoiceNo StoreId StockCode Description                         Quantity\n",
       "1 536365    11      85123A    WHITE HANGING HEART T-LIGHT HOLDER  6       \n",
       "2 536365     9      71053     WHITE METAL LANTERN                 6       \n",
       "3 536365    17      84406B    CREAM CUPID HEARTS COAT HANGER      8       \n",
       "4 536365    15      84029G    KNITTED UNION FLAG HOT WATER BOTTLE 6       \n",
       "5 536365    17      84029E    RED WOOLLY HOTTIE WHITE HEART.      6       \n",
       "6 536365     2      22752     SET 7 BABUSHKA NESTING BOXES        2       \n",
       "  InvoiceDate    UnitPrice CustomerID Country       \n",
       "1 12/01/10 08:26 2.55      17850      United Kingdom\n",
       "2 12/01/10 08:26 3.39      17850      United Kingdom\n",
       "3 12/01/10 08:26 2.75      17850      United Kingdom\n",
       "4 12/01/10 08:26 3.39      17850      United Kingdom\n",
       "5 12/01/10 08:26 3.39      17850      United Kingdom\n",
       "6 12/01/10 08:26 7.65      17850      United Kingdom"
      ]
     },
     "metadata": {},
     "output_type": "display_data"
    }
   ],
   "source": [
    "head(df)"
   ]
  },
  {
   "cell_type": "code",
   "execution_count": 247,
   "metadata": {
    "vscode": {
     "languageId": "r"
    }
   },
   "outputs": [],
   "source": [
    "df$UnitPrice <- as.numeric(df$UnitPrice)\n",
    "df$StoreId <- as.character(df$StoreId)\n",
    "# Existem 2 tipos de máscaras diferentes nos dados de datas, deixei de usar o as.POSIXct para usar o parse_date_time.\n",
    "df$InvoiceDate <- parse_date_time(df$InvoiceDate, orders = c('mdy HM', 'mdY HM'))\n",
    "\n",
    "df <- df  %>% mutate(PurchaseValue = Quantity * UnitPrice)"
   ]
  },
  {
   "cell_type": "code",
   "execution_count": 248,
   "metadata": {
    "vscode": {
     "languageId": "r"
    }
   },
   "outputs": [
    {
     "data": {
      "text/html": [
       "<table class=\"dataframe\">\n",
       "<caption>A data.frame: 6 × 10</caption>\n",
       "<thead>\n",
       "\t<tr><th></th><th scope=col>InvoiceNo</th><th scope=col>StoreId</th><th scope=col>StockCode</th><th scope=col>Description</th><th scope=col>Quantity</th><th scope=col>InvoiceDate</th><th scope=col>UnitPrice</th><th scope=col>CustomerID</th><th scope=col>Country</th><th scope=col>PurchaseValue</th></tr>\n",
       "\t<tr><th></th><th scope=col>&lt;chr&gt;</th><th scope=col>&lt;chr&gt;</th><th scope=col>&lt;chr&gt;</th><th scope=col>&lt;chr&gt;</th><th scope=col>&lt;int&gt;</th><th scope=col>&lt;dttm&gt;</th><th scope=col>&lt;dbl&gt;</th><th scope=col>&lt;int&gt;</th><th scope=col>&lt;chr&gt;</th><th scope=col>&lt;dbl&gt;</th></tr>\n",
       "</thead>\n",
       "<tbody>\n",
       "\t<tr><th scope=row>1</th><td>536365</td><td>11</td><td>85123A</td><td>WHITE HANGING HEART T-LIGHT HOLDER </td><td>6</td><td>2010-12-01 08:26:00</td><td>2.55</td><td>17850</td><td>United Kingdom</td><td>15.30</td></tr>\n",
       "\t<tr><th scope=row>2</th><td>536365</td><td>9 </td><td>71053 </td><td>WHITE METAL LANTERN                </td><td>6</td><td>2010-12-01 08:26:00</td><td>3.39</td><td>17850</td><td>United Kingdom</td><td>20.34</td></tr>\n",
       "\t<tr><th scope=row>3</th><td>536365</td><td>17</td><td>84406B</td><td>CREAM CUPID HEARTS COAT HANGER     </td><td>8</td><td>2010-12-01 08:26:00</td><td>2.75</td><td>17850</td><td>United Kingdom</td><td>22.00</td></tr>\n",
       "\t<tr><th scope=row>4</th><td>536365</td><td>15</td><td>84029G</td><td>KNITTED UNION FLAG HOT WATER BOTTLE</td><td>6</td><td>2010-12-01 08:26:00</td><td>3.39</td><td>17850</td><td>United Kingdom</td><td>20.34</td></tr>\n",
       "\t<tr><th scope=row>5</th><td>536365</td><td>17</td><td>84029E</td><td>RED WOOLLY HOTTIE WHITE HEART.     </td><td>6</td><td>2010-12-01 08:26:00</td><td>3.39</td><td>17850</td><td>United Kingdom</td><td>20.34</td></tr>\n",
       "\t<tr><th scope=row>6</th><td>536365</td><td>2 </td><td>22752 </td><td>SET 7 BABUSHKA NESTING BOXES       </td><td>2</td><td>2010-12-01 08:26:00</td><td>7.65</td><td>17850</td><td>United Kingdom</td><td>15.30</td></tr>\n",
       "</tbody>\n",
       "</table>\n"
      ],
      "text/latex": [
       "A data.frame: 6 × 10\n",
       "\\begin{tabular}{r|llllllllll}\n",
       "  & InvoiceNo & StoreId & StockCode & Description & Quantity & InvoiceDate & UnitPrice & CustomerID & Country & PurchaseValue\\\\\n",
       "  & <chr> & <chr> & <chr> & <chr> & <int> & <dttm> & <dbl> & <int> & <chr> & <dbl>\\\\\n",
       "\\hline\n",
       "\t1 & 536365 & 11 & 85123A & WHITE HANGING HEART T-LIGHT HOLDER  & 6 & 2010-12-01 08:26:00 & 2.55 & 17850 & United Kingdom & 15.30\\\\\n",
       "\t2 & 536365 & 9  & 71053  & WHITE METAL LANTERN                 & 6 & 2010-12-01 08:26:00 & 3.39 & 17850 & United Kingdom & 20.34\\\\\n",
       "\t3 & 536365 & 17 & 84406B & CREAM CUPID HEARTS COAT HANGER      & 8 & 2010-12-01 08:26:00 & 2.75 & 17850 & United Kingdom & 22.00\\\\\n",
       "\t4 & 536365 & 15 & 84029G & KNITTED UNION FLAG HOT WATER BOTTLE & 6 & 2010-12-01 08:26:00 & 3.39 & 17850 & United Kingdom & 20.34\\\\\n",
       "\t5 & 536365 & 17 & 84029E & RED WOOLLY HOTTIE WHITE HEART.      & 6 & 2010-12-01 08:26:00 & 3.39 & 17850 & United Kingdom & 20.34\\\\\n",
       "\t6 & 536365 & 2  & 22752  & SET 7 BABUSHKA NESTING BOXES        & 2 & 2010-12-01 08:26:00 & 7.65 & 17850 & United Kingdom & 15.30\\\\\n",
       "\\end{tabular}\n"
      ],
      "text/markdown": [
       "\n",
       "A data.frame: 6 × 10\n",
       "\n",
       "| <!--/--> | InvoiceNo &lt;chr&gt; | StoreId &lt;chr&gt; | StockCode &lt;chr&gt; | Description &lt;chr&gt; | Quantity &lt;int&gt; | InvoiceDate &lt;dttm&gt; | UnitPrice &lt;dbl&gt; | CustomerID &lt;int&gt; | Country &lt;chr&gt; | PurchaseValue &lt;dbl&gt; |\n",
       "|---|---|---|---|---|---|---|---|---|---|---|\n",
       "| 1 | 536365 | 11 | 85123A | WHITE HANGING HEART T-LIGHT HOLDER  | 6 | 2010-12-01 08:26:00 | 2.55 | 17850 | United Kingdom | 15.30 |\n",
       "| 2 | 536365 | 9  | 71053  | WHITE METAL LANTERN                 | 6 | 2010-12-01 08:26:00 | 3.39 | 17850 | United Kingdom | 20.34 |\n",
       "| 3 | 536365 | 17 | 84406B | CREAM CUPID HEARTS COAT HANGER      | 8 | 2010-12-01 08:26:00 | 2.75 | 17850 | United Kingdom | 22.00 |\n",
       "| 4 | 536365 | 15 | 84029G | KNITTED UNION FLAG HOT WATER BOTTLE | 6 | 2010-12-01 08:26:00 | 3.39 | 17850 | United Kingdom | 20.34 |\n",
       "| 5 | 536365 | 17 | 84029E | RED WOOLLY HOTTIE WHITE HEART.      | 6 | 2010-12-01 08:26:00 | 3.39 | 17850 | United Kingdom | 20.34 |\n",
       "| 6 | 536365 | 2  | 22752  | SET 7 BABUSHKA NESTING BOXES        | 2 | 2010-12-01 08:26:00 | 7.65 | 17850 | United Kingdom | 15.30 |\n",
       "\n"
      ],
      "text/plain": [
       "  InvoiceNo StoreId StockCode Description                         Quantity\n",
       "1 536365    11      85123A    WHITE HANGING HEART T-LIGHT HOLDER  6       \n",
       "2 536365    9       71053     WHITE METAL LANTERN                 6       \n",
       "3 536365    17      84406B    CREAM CUPID HEARTS COAT HANGER      8       \n",
       "4 536365    15      84029G    KNITTED UNION FLAG HOT WATER BOTTLE 6       \n",
       "5 536365    17      84029E    RED WOOLLY HOTTIE WHITE HEART.      6       \n",
       "6 536365    2       22752     SET 7 BABUSHKA NESTING BOXES        2       \n",
       "  InvoiceDate         UnitPrice CustomerID Country        PurchaseValue\n",
       "1 2010-12-01 08:26:00 2.55      17850      United Kingdom 15.30        \n",
       "2 2010-12-01 08:26:00 3.39      17850      United Kingdom 20.34        \n",
       "3 2010-12-01 08:26:00 2.75      17850      United Kingdom 22.00        \n",
       "4 2010-12-01 08:26:00 3.39      17850      United Kingdom 20.34        \n",
       "5 2010-12-01 08:26:00 3.39      17850      United Kingdom 20.34        \n",
       "6 2010-12-01 08:26:00 7.65      17850      United Kingdom 15.30        "
      ]
     },
     "metadata": {},
     "output_type": "display_data"
    }
   ],
   "source": [
    "head(df)"
   ]
  },
  {
   "cell_type": "code",
   "execution_count": 249,
   "metadata": {
    "vscode": {
     "languageId": "r"
    }
   },
   "outputs": [
    {
     "data": {
      "text/html": [
       "<table class=\"dataframe\">\n",
       "<caption>A data.frame: 6 × 1</caption>\n",
       "<thead>\n",
       "\t<tr><th></th><th scope=col>Description</th></tr>\n",
       "\t<tr><th></th><th scope=col>&lt;chr&gt;</th></tr>\n",
       "</thead>\n",
       "<tbody>\n",
       "\t<tr><th scope=row>1</th><td>PAPER CRAFT , LITTLE BIRDIE   </td></tr>\n",
       "\t<tr><th scope=row>2</th><td>MEDIUM CERAMIC TOP STORAGE JAR</td></tr>\n",
       "\t<tr><th scope=row>3</th><td>Manual                        </td></tr>\n",
       "\t<tr><th scope=row>4</th><td>AMAZON FEE                    </td></tr>\n",
       "\t<tr><th scope=row>5</th><td>Adjust bad debt               </td></tr>\n",
       "\t<tr><th scope=row>6</th><td>POSTAGE                       </td></tr>\n",
       "</tbody>\n",
       "</table>\n"
      ],
      "text/latex": [
       "A data.frame: 6 × 1\n",
       "\\begin{tabular}{r|l}\n",
       "  & Description\\\\\n",
       "  & <chr>\\\\\n",
       "\\hline\n",
       "\t1 & PAPER CRAFT , LITTLE BIRDIE   \\\\\n",
       "\t2 & MEDIUM CERAMIC TOP STORAGE JAR\\\\\n",
       "\t3 & Manual                        \\\\\n",
       "\t4 & AMAZON FEE                    \\\\\n",
       "\t5 & Adjust bad debt               \\\\\n",
       "\t6 & POSTAGE                       \\\\\n",
       "\\end{tabular}\n"
      ],
      "text/markdown": [
       "\n",
       "A data.frame: 6 × 1\n",
       "\n",
       "| <!--/--> | Description &lt;chr&gt; |\n",
       "|---|---|\n",
       "| 1 | PAPER CRAFT , LITTLE BIRDIE    |\n",
       "| 2 | MEDIUM CERAMIC TOP STORAGE JAR |\n",
       "| 3 | Manual                         |\n",
       "| 4 | AMAZON FEE                     |\n",
       "| 5 | Adjust bad debt                |\n",
       "| 6 | POSTAGE                        |\n",
       "\n"
      ],
      "text/plain": [
       "  Description                   \n",
       "1 PAPER CRAFT , LITTLE BIRDIE   \n",
       "2 MEDIUM CERAMIC TOP STORAGE JAR\n",
       "3 Manual                        \n",
       "4 AMAZON FEE                    \n",
       "5 Adjust bad debt               \n",
       "6 POSTAGE                       "
      ]
     },
     "metadata": {},
     "output_type": "display_data"
    }
   ],
   "source": [
    "df  %>% select(Description, Quantity,PurchaseValue ) %>%  arrange(PurchaseValue)%>% distinct(Description)  %>% head()\n",
    "# Como existem valores em Quantity negativos e com descrições do tipo \"AMAZON FEE\", \"POSTAGE\", etc. Pode-se subenteder que os valores negativos representam \n",
    "# Perdas ou despesas. Para calcular o valor das lojas que tem o maior faturamento não será necessário levar em consideração esses valores negativos, porém para \n",
    "# calcular os lucros de cada loja será preciso fazer a conta lucro = Faturamento - Despesas. Para todos os efeitos estou usando um filtro onde  PurchaseValue > 0 para evitar problemas\n",
    "# em summarizes"
   ]
  },
  {
   "cell_type": "code",
   "execution_count": 250,
   "metadata": {
    "vscode": {
     "languageId": "r"
    }
   },
   "outputs": [],
   "source": [
    "# Optei por retirar da análise esses valores que aparentam não serem operações de compra.\n",
    "df <- df  %>% filter(!StockCode %in% c(\"S\",\"M\", \"m\", \"POST\", \"DOT\", \"BANK CHARGES\", \"AMAZONFEE\", \"B\", \"C2\")) "
   ]
  },
  {
   "cell_type": "code",
   "execution_count": 251,
   "metadata": {
    "vscode": {
     "languageId": "r"
    }
   },
   "outputs": [
    {
     "data": {
      "text/html": [
       "<table class=\"dataframe\">\n",
       "<caption>A tibble: 10 × 3</caption>\n",
       "<thead>\n",
       "\t<tr><th scope=col>StoreId</th><th scope=col>sumQuantity</th><th scope=col>sumPurchaseValue</th></tr>\n",
       "\t<tr><th scope=col>&lt;chr&gt;</th><th scope=col>&lt;int&gt;</th><th scope=col>&lt;dbl&gt;</th></tr>\n",
       "</thead>\n",
       "<tbody>\n",
       "\t<tr><td>17</td><td>351747</td><td>675923.9</td></tr>\n",
       "\t<tr><td>4 </td><td>359441</td><td>633415.7</td></tr>\n",
       "\t<tr><td>13</td><td>276017</td><td>516043.0</td></tr>\n",
       "\t<tr><td>3 </td><td>267048</td><td>509737.9</td></tr>\n",
       "\t<tr><td>1 </td><td>269494</td><td>508641.1</td></tr>\n",
       "\t<tr><td>9 </td><td>277164</td><td>504821.3</td></tr>\n",
       "\t<tr><td>5 </td><td>266498</td><td>504570.6</td></tr>\n",
       "\t<tr><td>2 </td><td>268052</td><td>502800.7</td></tr>\n",
       "\t<tr><td>10</td><td>267934</td><td>498952.6</td></tr>\n",
       "\t<tr><td>15</td><td>275875</td><td>498805.8</td></tr>\n",
       "</tbody>\n",
       "</table>\n"
      ],
      "text/latex": [
       "A tibble: 10 × 3\n",
       "\\begin{tabular}{lll}\n",
       " StoreId & sumQuantity & sumPurchaseValue\\\\\n",
       " <chr> & <int> & <dbl>\\\\\n",
       "\\hline\n",
       "\t 17 & 351747 & 675923.9\\\\\n",
       "\t 4  & 359441 & 633415.7\\\\\n",
       "\t 13 & 276017 & 516043.0\\\\\n",
       "\t 3  & 267048 & 509737.9\\\\\n",
       "\t 1  & 269494 & 508641.1\\\\\n",
       "\t 9  & 277164 & 504821.3\\\\\n",
       "\t 5  & 266498 & 504570.6\\\\\n",
       "\t 2  & 268052 & 502800.7\\\\\n",
       "\t 10 & 267934 & 498952.6\\\\\n",
       "\t 15 & 275875 & 498805.8\\\\\n",
       "\\end{tabular}\n"
      ],
      "text/markdown": [
       "\n",
       "A tibble: 10 × 3\n",
       "\n",
       "| StoreId &lt;chr&gt; | sumQuantity &lt;int&gt; | sumPurchaseValue &lt;dbl&gt; |\n",
       "|---|---|---|\n",
       "| 17 | 351747 | 675923.9 |\n",
       "| 4  | 359441 | 633415.7 |\n",
       "| 13 | 276017 | 516043.0 |\n",
       "| 3  | 267048 | 509737.9 |\n",
       "| 1  | 269494 | 508641.1 |\n",
       "| 9  | 277164 | 504821.3 |\n",
       "| 5  | 266498 | 504570.6 |\n",
       "| 2  | 268052 | 502800.7 |\n",
       "| 10 | 267934 | 498952.6 |\n",
       "| 15 | 275875 | 498805.8 |\n",
       "\n"
      ],
      "text/plain": [
       "   StoreId sumQuantity sumPurchaseValue\n",
       "1  17      351747      675923.9        \n",
       "2  4       359441      633415.7        \n",
       "3  13      276017      516043.0        \n",
       "4  3       267048      509737.9        \n",
       "5  1       269494      508641.1        \n",
       "6  9       277164      504821.3        \n",
       "7  5       266498      504570.6        \n",
       "8  2       268052      502800.7        \n",
       "9  10      267934      498952.6        \n",
       "10 15      275875      498805.8        "
      ]
     },
     "metadata": {},
     "output_type": "display_data"
    }
   ],
   "source": [
    "# Insight 1: 10 lojas com os maiores faturamentos em pedidos\n",
    "# Insight 1.1: Volume total de items de venda para as 10 lojas com maior faturamento em pedidos\n",
    "insight1 <- df  %>% \n",
    "    select(StoreId, Quantity, PurchaseValue )  %>% \n",
    "    filter( PurchaseValue > 0) %>%  \n",
    "    group_by(StoreId)  %>%\n",
    "    summarise(sumQuantity = sum(Quantity), sumPurchaseValue = sum(PurchaseValue))  %>%  \n",
    "    arrange(desc(sumPurchaseValue))  %>%\n",
    "    head(10)\n",
    "insight1"
   ]
  },
  {
   "cell_type": "code",
   "execution_count": 252,
   "metadata": {
    "vscode": {
     "languageId": "r"
    }
   },
   "outputs": [
    {
     "name": "stderr",
     "output_type": "stream",
     "text": [
      "Warning message:\n",
      "\"Ignoring unknown parameters: fill, label.size\"\n"
     ]
    }
   ],
   "source": [
    "plotInsight1 <- insight1  %>% \n",
    "    ggplot(aes(x =  reorder(StoreId, sumPurchaseValue), y = sumPurchaseValue,fill = StoreId)) + \n",
    "    geom_bar(stat= \"identity\") +  \n",
    "    geom_text(aes(label = label_number_si(accuracy=0.01, )(sumPurchaseValue)), hjust = -0.3,fill = \"white\", label.size = 0)+\n",
    "    coord_flip()+ \n",
    "    theme_minimal()+ \n",
    "    scale_fill_manual(values = pinkColors)+\n",
    "    theme(  plot.title = element_text(hjust = 0.5, size = 24),axis.text.y = element_text(size = 20, hjust = 1), axis.ticks.x = element_blank(), axis.text.x = element_blank(),panel.background = element_rect(fill = 'grey'),) +\n",
    "    labs(title=\"Insight 1: 10 lojas com os maiores faturamentos em pedidos\",x =\"StoreId\", y = \"PurchaseValue\",fill=\"none\") +\n",
    "    guides(fill=\"none\")"
   ]
  },
  {
   "cell_type": "code",
   "execution_count": 253,
   "metadata": {
    "vscode": {
     "languageId": "r"
    }
   },
   "outputs": [
    {
     "name": "stderr",
     "output_type": "stream",
     "text": [
      "Warning message:\n",
      "\"Ignoring unknown parameters: fill, label.size\"\n"
     ]
    }
   ],
   "source": [
    "plotInsight1.1 <- insight1 %>% ggplot(aes(x =  reorder(StoreId, sumPurchaseValue), y = sumQuantity,fill = StoreId)) +\n",
    "    geom_bar(stat= \"identity\") +\n",
    "    geom_text(aes(label = label_number_si(accuracy=0.01, )(sumQuantity)), hjust = -0.3,fill = \"white\", label.size = 0)+\n",
    "    coord_flip()+ \n",
    "    theme_minimal()+ \n",
    "    scale_fill_manual(values = pinkColors)+\n",
    "    theme( plot.title = element_text(hjust = 0.5, size = 24), axis.text.y = element_text(size = 20, hjust = 1),  axis.ticks.x = element_blank(), axis.text.x = element_blank(), panel.background = element_rect(fill = 'grey'),) +\n",
    "    labs(title=\"Insight 1.1: Volume total de items de venda para as 10 lojas com maior faturamento em pedidos \\n ordenado por maior faturamento\",x =\"StoreId\", y = \"sumQuantity\",fill=\"none\") +\n",
    "    guides(fill=\"none\")"
   ]
  },
  {
   "cell_type": "code",
   "execution_count": 254,
   "metadata": {
    "vscode": {
     "languageId": "r"
    }
   },
   "outputs": [
    {
     "name": "stderr",
     "output_type": "stream",
     "text": [
      "\u001b[1m\u001b[22m`summarise()` has grouped output by 'CustomerID'. You can override using the\n",
      "`.groups` argument.\n"
     ]
    },
    {
     "data": {
      "text/html": [
       "<table class=\"dataframe\">\n",
       "<caption>A grouped_df: 6 × 3</caption>\n",
       "<thead>\n",
       "\t<tr><th scope=col>CustomerID</th><th scope=col>monthYear</th><th scope=col>PurchaseValue</th></tr>\n",
       "\t<tr><th scope=col>&lt;int&gt;</th><th scope=col>&lt;chr&gt;</th><th scope=col>&lt;dbl&gt;</th></tr>\n",
       "</thead>\n",
       "<tbody>\n",
       "\t<tr><td>12347</td><td>dez/2010</td><td> 711.79</td></tr>\n",
       "\t<tr><td>12348</td><td>dez/2010</td><td> 652.80</td></tr>\n",
       "\t<tr><td>12370</td><td>dez/2010</td><td>1748.02</td></tr>\n",
       "\t<tr><td>12377</td><td>dez/2010</td><td>1001.52</td></tr>\n",
       "\t<tr><td>12383</td><td>dez/2010</td><td> 555.72</td></tr>\n",
       "\t<tr><td>12386</td><td>dez/2010</td><td> 258.90</td></tr>\n",
       "</tbody>\n",
       "</table>\n"
      ],
      "text/latex": [
       "A grouped\\_df: 6 × 3\n",
       "\\begin{tabular}{lll}\n",
       " CustomerID & monthYear & PurchaseValue\\\\\n",
       " <int> & <chr> & <dbl>\\\\\n",
       "\\hline\n",
       "\t 12347 & dez/2010 &  711.79\\\\\n",
       "\t 12348 & dez/2010 &  652.80\\\\\n",
       "\t 12370 & dez/2010 & 1748.02\\\\\n",
       "\t 12377 & dez/2010 & 1001.52\\\\\n",
       "\t 12383 & dez/2010 &  555.72\\\\\n",
       "\t 12386 & dez/2010 &  258.90\\\\\n",
       "\\end{tabular}\n"
      ],
      "text/markdown": [
       "\n",
       "A grouped_df: 6 × 3\n",
       "\n",
       "| CustomerID &lt;int&gt; | monthYear &lt;chr&gt; | PurchaseValue &lt;dbl&gt; |\n",
       "|---|---|---|\n",
       "| 12347 | dez/2010 |  711.79 |\n",
       "| 12348 | dez/2010 |  652.80 |\n",
       "| 12370 | dez/2010 | 1748.02 |\n",
       "| 12377 | dez/2010 | 1001.52 |\n",
       "| 12383 | dez/2010 |  555.72 |\n",
       "| 12386 | dez/2010 |  258.90 |\n",
       "\n"
      ],
      "text/plain": [
       "  CustomerID monthYear PurchaseValue\n",
       "1 12347      dez/2010   711.79      \n",
       "2 12348      dez/2010   652.80      \n",
       "3 12370      dez/2010  1748.02      \n",
       "4 12377      dez/2010  1001.52      \n",
       "5 12383      dez/2010   555.72      \n",
       "6 12386      dez/2010   258.90      "
      ]
     },
     "metadata": {},
     "output_type": "display_data"
    }
   ],
   "source": [
    "insight2 <- df %>% \n",
    "    select(CustomerID,InvoiceDate,  PurchaseValue) %>% \n",
    "    filter(PurchaseValue > 0, !is.na(CustomerID)) %>% \n",
    "    group_by(CustomerID, monthYear = floor_date(InvoiceDate, \"month\"))  %>% \n",
    "    summarise(PurchaseValue = sum(PurchaseValue)) %>% \n",
    "    arrange(monthYear)\n",
    "    \n",
    "insight2$monthYear <- format(insight2$monthYear, \"%b/%Y\")\n",
    "\n",
    "head(insight2)"
   ]
  },
  {
   "cell_type": "code",
   "execution_count": 255,
   "metadata": {
    "vscode": {
     "languageId": "r"
    }
   },
   "outputs": [
    {
     "data": {
      "text/html": [
       "4334"
      ],
      "text/latex": [
       "4334"
      ],
      "text/markdown": [
       "4334"
      ],
      "text/plain": [
       "[1] 4334"
      ]
     },
     "metadata": {},
     "output_type": "display_data"
    }
   ],
   "source": [
    "# Quantidade de clientes\n",
    "insight2  %>% select(CustomerID)  %>% distinct()  %>% nrow()"
   ]
  },
  {
   "cell_type": "code",
   "execution_count": 256,
   "metadata": {
    "vscode": {
     "languageId": "r"
    }
   },
   "outputs": [
    {
     "name": "stderr",
     "output_type": "stream",
     "text": [
      "\u001b[1m\u001b[22mAdding missing grouping variables: `CustomerID`\n"
     ]
    },
    {
     "data": {
      "text/html": [
       "<table class=\"dataframe\">\n",
       "<caption>A tibble: 13 × 2</caption>\n",
       "<thead>\n",
       "\t<tr><th scope=col>monthYear</th><th scope=col>PurchaseValue</th></tr>\n",
       "\t<tr><th scope=col>&lt;fct&gt;</th><th scope=col>&lt;dbl&gt;</th></tr>\n",
       "</thead>\n",
       "<tbody>\n",
       "\t<tr><td>dez/2010</td><td>130.94</td></tr>\n",
       "\t<tr><td>jan/2011</td><td>130.14</td></tr>\n",
       "\t<tr><td>fev/2011</td><td>102.29</td></tr>\n",
       "\t<tr><td>mar/2011</td><td>134.88</td></tr>\n",
       "\t<tr><td>abr/2011</td><td>105.05</td></tr>\n",
       "\t<tr><td>mai/2011</td><td>152.40</td></tr>\n",
       "\t<tr><td>jun/2011</td><td>151.00</td></tr>\n",
       "\t<tr><td>jul/2011</td><td>136.76</td></tr>\n",
       "\t<tr><td>ago/2011</td><td>146.93</td></tr>\n",
       "\t<tr><td>set/2011</td><td>217.10</td></tr>\n",
       "\t<tr><td>out/2011</td><td>232.04</td></tr>\n",
       "\t<tr><td>nov/2011</td><td>263.53</td></tr>\n",
       "\t<tr><td>dez/2011</td><td>118.42</td></tr>\n",
       "</tbody>\n",
       "</table>\n"
      ],
      "text/latex": [
       "A tibble: 13 × 2\n",
       "\\begin{tabular}{ll}\n",
       " monthYear & PurchaseValue\\\\\n",
       " <fct> & <dbl>\\\\\n",
       "\\hline\n",
       "\t dez/2010 & 130.94\\\\\n",
       "\t jan/2011 & 130.14\\\\\n",
       "\t fev/2011 & 102.29\\\\\n",
       "\t mar/2011 & 134.88\\\\\n",
       "\t abr/2011 & 105.05\\\\\n",
       "\t mai/2011 & 152.40\\\\\n",
       "\t jun/2011 & 151.00\\\\\n",
       "\t jul/2011 & 136.76\\\\\n",
       "\t ago/2011 & 146.93\\\\\n",
       "\t set/2011 & 217.10\\\\\n",
       "\t out/2011 & 232.04\\\\\n",
       "\t nov/2011 & 263.53\\\\\n",
       "\t dez/2011 & 118.42\\\\\n",
       "\\end{tabular}\n"
      ],
      "text/markdown": [
       "\n",
       "A tibble: 13 × 2\n",
       "\n",
       "| monthYear &lt;fct&gt; | PurchaseValue &lt;dbl&gt; |\n",
       "|---|---|\n",
       "| dez/2010 | 130.94 |\n",
       "| jan/2011 | 130.14 |\n",
       "| fev/2011 | 102.29 |\n",
       "| mar/2011 | 134.88 |\n",
       "| abr/2011 | 105.05 |\n",
       "| mai/2011 | 152.40 |\n",
       "| jun/2011 | 151.00 |\n",
       "| jul/2011 | 136.76 |\n",
       "| ago/2011 | 146.93 |\n",
       "| set/2011 | 217.10 |\n",
       "| out/2011 | 232.04 |\n",
       "| nov/2011 | 263.53 |\n",
       "| dez/2011 | 118.42 |\n",
       "\n"
      ],
      "text/plain": [
       "   monthYear PurchaseValue\n",
       "1  dez/2010  130.94       \n",
       "2  jan/2011  130.14       \n",
       "3  fev/2011  102.29       \n",
       "4  mar/2011  134.88       \n",
       "5  abr/2011  105.05       \n",
       "6  mai/2011  152.40       \n",
       "7  jun/2011  151.00       \n",
       "8  jul/2011  136.76       \n",
       "9  ago/2011  146.93       \n",
       "10 set/2011  217.10       \n",
       "11 out/2011  232.04       \n",
       "12 nov/2011  263.53       \n",
       "13 dez/2011  118.42       "
      ]
     },
     "metadata": {},
     "output_type": "display_data"
    }
   ],
   "source": [
    "# Divisão da soma do valor total de faturamento do mês pelo número total de clientes (4334) para chegar no Ticket médio mensal\n",
    "# Insight 2: Ticket médio mensal dos pedidos\n",
    "insight2 <- insight2   %>% \n",
    "    select(monthYear, PurchaseValue)  %>% \n",
    "    group_by(monthYear = factor(monthYear, levels = unique(monthYear)))  %>% \n",
    "    summarise(PurchaseValue = round(sum(PurchaseValue)/4334, 2))\n",
    "insight2"
   ]
  },
  {
   "cell_type": "code",
   "execution_count": 257,
   "metadata": {
    "vscode": {
     "languageId": "r"
    }
   },
   "outputs": [],
   "source": [
    "plotInsight2 <- insight2  %>% ggplot(aes(x= monthYear, y = PurchaseValue, group = 1)) +\n",
    "    geom_line(color=\"#fb3d8a\",size=1.2) +\n",
    "    geom_point(color=\"#fb3d8a\",size=2) +\n",
    "    geom_text(aes(label = PurchaseValue), nudge_y = 7) +\n",
    "    theme_minimal() +\n",
    "    labs(title=\"Insight 2: Ticket médio mensal dos pedidos\")+\n",
    "    theme( plot.title = element_text(hjust = 0.5, size = 24),axis.text.y = element_text(size = 20, hjust = 1), axis.text.x = element_text(angle = 15, size = 20, hjust = 1),panel.background = element_rect(fill = 'grey'),)"
   ]
  },
  {
   "cell_type": "code",
   "execution_count": 258,
   "metadata": {
    "vscode": {
     "languageId": "r"
    }
   },
   "outputs": [
    {
     "name": "stderr",
     "output_type": "stream",
     "text": [
      "\u001b[1m\u001b[22m`summarise()` has grouped output by 'CustomerID'. You can override using the\n",
      "`.groups` argument.\n",
      "\u001b[1m\u001b[22m`summarise()` has grouped output by 'CustomerID'. You can override using the\n",
      "`.groups` argument.\n"
     ]
    }
   ],
   "source": [
    " # Como existem faturas que não constam número de clientes, para responder o volume médio mensal de vendas de todas as lojas optei por fazer 2 pesquisas:\n",
    " \n",
    " # Uma pesquisa não levando em consideração as faturas que não estão relacionadas a clientes:\n",
    " insight2.1Customer <- df %>% \n",
    "    select(CustomerID,InvoiceDate,  PurchaseValue) %>% \n",
    "    filter(PurchaseValue > 0, !is.na(CustomerID)) %>% \n",
    "    group_by(CustomerID, monthYear = floor_date(InvoiceDate, \"month\"))  %>% \n",
    "    summarise(PurchaseValue = sum(PurchaseValue)) %>% \n",
    "    arrange(monthYear)\n",
    "insight2.1Customer$monthYear <- format(insight2.1Customer$monthYear, \"%b/%Y\")\n",
    "\n",
    "# E uma pesquisa levando em consideração todos os valores, inclusive as faturas que não estão relacionadas a um cliente:\n",
    "insight2.1NoCustomer <- df %>% \n",
    "    select(CustomerID,InvoiceDate,  PurchaseValue) %>% \n",
    "    filter(PurchaseValue > 0) %>% \n",
    "    group_by(CustomerID, monthYear = floor_date(InvoiceDate, \"month\"))  %>% \n",
    "    summarise(PurchaseValue = sum(PurchaseValue)) %>% \n",
    "    arrange(monthYear)\n",
    "insight2.1NoCustomer$monthYear <- format(insight2.1NoCustomer$monthYear, \"%b/%Y\")"
   ]
  },
  {
   "cell_type": "code",
   "execution_count": 259,
   "metadata": {
    "vscode": {
     "languageId": "r"
    }
   },
   "outputs": [
    {
     "name": "stderr",
     "output_type": "stream",
     "text": [
      "\u001b[1m\u001b[22mAdding missing grouping variables: `CustomerID`\n"
     ]
    },
    {
     "data": {
      "text/html": [
       "<table class=\"dataframe\">\n",
       "<caption>A tibble: 1 × 1</caption>\n",
       "<thead>\n",
       "\t<tr><th scope=col>mean(PurchaseValue)</th></tr>\n",
       "\t<tr><th scope=col>&lt;dbl&gt;</th></tr>\n",
       "</thead>\n",
       "<tbody>\n",
       "\t<tr><td>673928.2</td></tr>\n",
       "</tbody>\n",
       "</table>\n"
      ],
      "text/latex": [
       "A tibble: 1 × 1\n",
       "\\begin{tabular}{l}\n",
       " mean(PurchaseValue)\\\\\n",
       " <dbl>\\\\\n",
       "\\hline\n",
       "\t 673928.2\\\\\n",
       "\\end{tabular}\n"
      ],
      "text/markdown": [
       "\n",
       "A tibble: 1 × 1\n",
       "\n",
       "| mean(PurchaseValue) &lt;dbl&gt; |\n",
       "|---|\n",
       "| 673928.2 |\n",
       "\n"
      ],
      "text/plain": [
       "  mean(PurchaseValue)\n",
       "1 673928.2           "
      ]
     },
     "metadata": {},
     "output_type": "display_data"
    },
    {
     "name": "stderr",
     "output_type": "stream",
     "text": [
      "\u001b[1m\u001b[22mAdding missing grouping variables: `CustomerID`\n"
     ]
    },
    {
     "data": {
      "text/html": [
       "<table class=\"dataframe\">\n",
       "<caption>A tibble: 1 × 1</caption>\n",
       "<thead>\n",
       "\t<tr><th scope=col>mean(PurchaseValue)</th></tr>\n",
       "\t<tr><th scope=col>&lt;dbl&gt;</th></tr>\n",
       "</thead>\n",
       "<tbody>\n",
       "\t<tr><td>790163</td></tr>\n",
       "</tbody>\n",
       "</table>\n"
      ],
      "text/latex": [
       "A tibble: 1 × 1\n",
       "\\begin{tabular}{l}\n",
       " mean(PurchaseValue)\\\\\n",
       " <dbl>\\\\\n",
       "\\hline\n",
       "\t 790163\\\\\n",
       "\\end{tabular}\n"
      ],
      "text/markdown": [
       "\n",
       "A tibble: 1 × 1\n",
       "\n",
       "| mean(PurchaseValue) &lt;dbl&gt; |\n",
       "|---|\n",
       "| 790163 |\n",
       "\n"
      ],
      "text/plain": [
       "  mean(PurchaseValue)\n",
       "1 790163             "
      ]
     },
     "metadata": {},
     "output_type": "display_data"
    }
   ],
   "source": [
    "insight2.1Customer <- insight2.1Customer  %>% \n",
    "    select(monthYear, PurchaseValue)  %>% \n",
    "    group_by(monthYear = factor(monthYear, levels = unique(monthYear)))  %>% \n",
    "    summarise(PurchaseValue = round(sum(PurchaseValue), 2))\n",
    "\n",
    "# Para a primeira análise temos R$ 673.928,20 de volume médio mensal de vendas.\n",
    "insight2.1Customer %>% select(PurchaseValue)  %>% summarise(mean(PurchaseValue))\n",
    "\n",
    "insight2.1NoCustomer <- insight2.1NoCustomer  %>% \n",
    "    select(monthYear, PurchaseValue)  %>% \n",
    "    group_by(monthYear = factor(monthYear, levels = unique(monthYear)))  %>% \n",
    "    summarise(PurchaseValue = round(sum(PurchaseValue), 2))\n",
    "\n",
    "# Para a segunda análise temos R$ 790.163 de volume médio mensal de vendas.\n",
    "insight2.1NoCustomer %>% select(PurchaseValue)  %>% summarise(mean(PurchaseValue))"
   ]
  },
  {
   "cell_type": "code",
   "execution_count": 260,
   "metadata": {
    "vscode": {
     "languageId": "r"
    }
   },
   "outputs": [
    {
     "data": {
      "text/html": [
       "<table class=\"dataframe\">\n",
       "<caption>A tibble: 38 × 2</caption>\n",
       "<thead>\n",
       "\t<tr><th scope=col>Country</th><th scope=col>PurchaseValue</th></tr>\n",
       "\t<tr><th scope=col>&lt;chr&gt;</th><th scope=col>&lt;dbl&gt;</th></tr>\n",
       "</thead>\n",
       "<tbody>\n",
       "\t<tr><td>UK                  </td><td>8748247.47</td></tr>\n",
       "\t<tr><td>Netherlands         </td><td> 283889.34</td></tr>\n",
       "\t<tr><td>EIRE                </td><td> 271164.30</td></tr>\n",
       "\t<tr><td>Germany             </td><td> 205569.89</td></tr>\n",
       "\t<tr><td>France              </td><td> 184582.74</td></tr>\n",
       "\t<tr><td>Australia           </td><td> 138171.31</td></tr>\n",
       "\t<tr><td>Spain               </td><td>  55725.11</td></tr>\n",
       "\t<tr><td>Switzerland         </td><td>  53087.90</td></tr>\n",
       "\t<tr><td>Japan               </td><td>  37416.37</td></tr>\n",
       "\t<tr><td>Belgium             </td><td>  36927.34</td></tr>\n",
       "\t<tr><td>Sweden              </td><td>  36839.33</td></tr>\n",
       "\t<tr><td>Norway              </td><td>  32454.64</td></tr>\n",
       "\t<tr><td>Portugal            </td><td>  27015.16</td></tr>\n",
       "\t<tr><td>Channel Islands     </td><td>  20007.44</td></tr>\n",
       "\t<tr><td>Finland             </td><td>  18344.88</td></tr>\n",
       "\t<tr><td>Denmark             </td><td>  18211.34</td></tr>\n",
       "\t<tr><td>Italy               </td><td>  15820.24</td></tr>\n",
       "\t<tr><td>Cyprus              </td><td>  13254.69</td></tr>\n",
       "\t<tr><td>Hong Kong           </td><td>   9952.99</td></tr>\n",
       "\t<tr><td>Singapore           </td><td>   9120.39</td></tr>\n",
       "\t<tr><td>Austria             </td><td>   8742.68</td></tr>\n",
       "\t<tr><td>Israel              </td><td>   8135.26</td></tr>\n",
       "\t<tr><td>Poland              </td><td>   6974.65</td></tr>\n",
       "\t<tr><td>Unspecified         </td><td>   4749.79</td></tr>\n",
       "\t<tr><td>Greece              </td><td>   4425.52</td></tr>\n",
       "\t<tr><td>Iceland             </td><td>   4310.00</td></tr>\n",
       "\t<tr><td>USA                 </td><td>   3580.39</td></tr>\n",
       "\t<tr><td>Canada              </td><td>   3115.44</td></tr>\n",
       "\t<tr><td>Malta               </td><td>   2070.59</td></tr>\n",
       "\t<tr><td>United Arab Emirates</td><td>   1864.78</td></tr>\n",
       "\t<tr><td>Lebanon             </td><td>   1693.88</td></tr>\n",
       "\t<tr><td>Lithuania           </td><td>   1661.06</td></tr>\n",
       "\t<tr><td>European Community  </td><td>   1159.25</td></tr>\n",
       "\t<tr><td>Brazil              </td><td>   1143.60</td></tr>\n",
       "\t<tr><td>RSA                 </td><td>   1002.31</td></tr>\n",
       "\t<tr><td>Czech Republic      </td><td>    786.74</td></tr>\n",
       "\t<tr><td>Bahrain             </td><td>    754.14</td></tr>\n",
       "\t<tr><td>Saudi Arabia        </td><td>    145.92</td></tr>\n",
       "</tbody>\n",
       "</table>\n"
      ],
      "text/latex": [
       "A tibble: 38 × 2\n",
       "\\begin{tabular}{ll}\n",
       " Country & PurchaseValue\\\\\n",
       " <chr> & <dbl>\\\\\n",
       "\\hline\n",
       "\t UK                   & 8748247.47\\\\\n",
       "\t Netherlands          &  283889.34\\\\\n",
       "\t EIRE                 &  271164.30\\\\\n",
       "\t Germany              &  205569.89\\\\\n",
       "\t France               &  184582.74\\\\\n",
       "\t Australia            &  138171.31\\\\\n",
       "\t Spain                &   55725.11\\\\\n",
       "\t Switzerland          &   53087.90\\\\\n",
       "\t Japan                &   37416.37\\\\\n",
       "\t Belgium              &   36927.34\\\\\n",
       "\t Sweden               &   36839.33\\\\\n",
       "\t Norway               &   32454.64\\\\\n",
       "\t Portugal             &   27015.16\\\\\n",
       "\t Channel Islands      &   20007.44\\\\\n",
       "\t Finland              &   18344.88\\\\\n",
       "\t Denmark              &   18211.34\\\\\n",
       "\t Italy                &   15820.24\\\\\n",
       "\t Cyprus               &   13254.69\\\\\n",
       "\t Hong Kong            &    9952.99\\\\\n",
       "\t Singapore            &    9120.39\\\\\n",
       "\t Austria              &    8742.68\\\\\n",
       "\t Israel               &    8135.26\\\\\n",
       "\t Poland               &    6974.65\\\\\n",
       "\t Unspecified          &    4749.79\\\\\n",
       "\t Greece               &    4425.52\\\\\n",
       "\t Iceland              &    4310.00\\\\\n",
       "\t USA                  &    3580.39\\\\\n",
       "\t Canada               &    3115.44\\\\\n",
       "\t Malta                &    2070.59\\\\\n",
       "\t United Arab Emirates &    1864.78\\\\\n",
       "\t Lebanon              &    1693.88\\\\\n",
       "\t Lithuania            &    1661.06\\\\\n",
       "\t European Community   &    1159.25\\\\\n",
       "\t Brazil               &    1143.60\\\\\n",
       "\t RSA                  &    1002.31\\\\\n",
       "\t Czech Republic       &     786.74\\\\\n",
       "\t Bahrain              &     754.14\\\\\n",
       "\t Saudi Arabia         &     145.92\\\\\n",
       "\\end{tabular}\n"
      ],
      "text/markdown": [
       "\n",
       "A tibble: 38 × 2\n",
       "\n",
       "| Country &lt;chr&gt; | PurchaseValue &lt;dbl&gt; |\n",
       "|---|---|\n",
       "| UK                   | 8748247.47 |\n",
       "| Netherlands          |  283889.34 |\n",
       "| EIRE                 |  271164.30 |\n",
       "| Germany              |  205569.89 |\n",
       "| France               |  184582.74 |\n",
       "| Australia            |  138171.31 |\n",
       "| Spain                |   55725.11 |\n",
       "| Switzerland          |   53087.90 |\n",
       "| Japan                |   37416.37 |\n",
       "| Belgium              |   36927.34 |\n",
       "| Sweden               |   36839.33 |\n",
       "| Norway               |   32454.64 |\n",
       "| Portugal             |   27015.16 |\n",
       "| Channel Islands      |   20007.44 |\n",
       "| Finland              |   18344.88 |\n",
       "| Denmark              |   18211.34 |\n",
       "| Italy                |   15820.24 |\n",
       "| Cyprus               |   13254.69 |\n",
       "| Hong Kong            |    9952.99 |\n",
       "| Singapore            |    9120.39 |\n",
       "| Austria              |    8742.68 |\n",
       "| Israel               |    8135.26 |\n",
       "| Poland               |    6974.65 |\n",
       "| Unspecified          |    4749.79 |\n",
       "| Greece               |    4425.52 |\n",
       "| Iceland              |    4310.00 |\n",
       "| USA                  |    3580.39 |\n",
       "| Canada               |    3115.44 |\n",
       "| Malta                |    2070.59 |\n",
       "| United Arab Emirates |    1864.78 |\n",
       "| Lebanon              |    1693.88 |\n",
       "| Lithuania            |    1661.06 |\n",
       "| European Community   |    1159.25 |\n",
       "| Brazil               |    1143.60 |\n",
       "| RSA                  |    1002.31 |\n",
       "| Czech Republic       |     786.74 |\n",
       "| Bahrain              |     754.14 |\n",
       "| Saudi Arabia         |     145.92 |\n",
       "\n"
      ],
      "text/plain": [
       "   Country              PurchaseValue\n",
       "1  UK                   8748247.47   \n",
       "2  Netherlands           283889.34   \n",
       "3  EIRE                  271164.30   \n",
       "4  Germany               205569.89   \n",
       "5  France                184582.74   \n",
       "6  Australia             138171.31   \n",
       "7  Spain                  55725.11   \n",
       "8  Switzerland            53087.90   \n",
       "9  Japan                  37416.37   \n",
       "10 Belgium                36927.34   \n",
       "11 Sweden                 36839.33   \n",
       "12 Norway                 32454.64   \n",
       "13 Portugal               27015.16   \n",
       "14 Channel Islands        20007.44   \n",
       "15 Finland                18344.88   \n",
       "16 Denmark                18211.34   \n",
       "17 Italy                  15820.24   \n",
       "18 Cyprus                 13254.69   \n",
       "19 Hong Kong               9952.99   \n",
       "20 Singapore               9120.39   \n",
       "21 Austria                 8742.68   \n",
       "22 Israel                  8135.26   \n",
       "23 Poland                  6974.65   \n",
       "24 Unspecified             4749.79   \n",
       "25 Greece                  4425.52   \n",
       "26 Iceland                 4310.00   \n",
       "27 USA                     3580.39   \n",
       "28 Canada                  3115.44   \n",
       "29 Malta                   2070.59   \n",
       "30 United Arab Emirates    1864.78   \n",
       "31 Lebanon                 1693.88   \n",
       "32 Lithuania               1661.06   \n",
       "33 European Community      1159.25   \n",
       "34 Brazil                  1143.60   \n",
       "35 RSA                     1002.31   \n",
       "36 Czech Republic           786.74   \n",
       "37 Bahrain                  754.14   \n",
       "38 Saudi Arabia             145.92   "
      ]
     },
     "metadata": {},
     "output_type": "display_data"
    }
   ],
   "source": [
    "# Insight 3: Países com os maiores números de vendas.\n",
    "insight3 <- df %>% select(Country,PurchaseValue)  %>% \n",
    "    filter( PurchaseValue > 0) %>% \n",
    "    group_by(Country) %>% \n",
    "    summarise(PurchaseValue = sum(PurchaseValue)) %>% \n",
    "    arrange(desc(PurchaseValue))\n",
    "\n",
    "# Pequena mudança manual para plotar no mapa mundi.\n",
    "insight3$Country[insight3$Country == \"United Kingdom\"] <- \"UK\"\n",
    "insight3\n"
   ]
  },
  {
   "cell_type": "code",
   "execution_count": 261,
   "metadata": {
    "vscode": {
     "languageId": "r"
    }
   },
   "outputs": [],
   "source": [
    "world_map <- map_data(\"world\")\n",
    "world_map <- subset(world_map, region != \"Antarctica\")\n",
    "# HeatMap dos países com os maiores números de vendas.\n",
    "plotInsight3 <- ggplot(data = insight3) +\n",
    "  geom_map(dat = world_map, map = world_map, aes(map_id = region),fill = \"grey\", color = \"#7f7f7f\", size = 0.1) +\n",
    "  geom_map(map = world_map, aes(map_id = Country, fill = PurchaseValue), size = 0.25, color = \"#7f7f7f\") +\n",
    "  scale_fill_gradient(low = \"#ffffff\", high = \"#FA3C8A\",trans = \"log\") +\n",
    "  coord_fixed(1.3) +\n",
    "  expand_limits(x = world_map$long, y = world_map$lat)+\n",
    "  theme(plot.title = element_text(hjust = 0.5, size = 24),axis.ticks.x = element_blank(),axis.text.x = element_blank(), axis.ticks.y = element_blank(),axis.text.y = element_blank())+\n",
    "  labs(title=\"Insight 3: HeatMap dos países com maior volume de vendas\",) "
   ]
  },
  {
   "cell_type": "code",
   "execution_count": 262,
   "metadata": {
    "vscode": {
     "languageId": "r"
    }
   },
   "outputs": [
    {
     "name": "stderr",
     "output_type": "stream",
     "text": [
      "\u001b[1m\u001b[22m`summarise()` has grouped output by 'StockCode', 'Description'. You can\n",
      "override using the `.groups` argument.\n"
     ]
    },
    {
     "data": {
      "text/html": [
       "<table class=\"dataframe\">\n",
       "<caption>A grouped_df: 10 × 5</caption>\n",
       "<thead>\n",
       "\t<tr><th scope=col>StockCode</th><th scope=col>Description</th><th scope=col>Country</th><th scope=col>PurchaseValue</th><th scope=col>Quantity</th></tr>\n",
       "\t<tr><th scope=col>&lt;chr&gt;</th><th scope=col>&lt;chr&gt;</th><th scope=col>&lt;chr&gt;</th><th scope=col>&lt;dbl&gt;</th><th scope=col>&lt;int&gt;</th></tr>\n",
       "</thead>\n",
       "<tbody>\n",
       "\t<tr><td>23843 </td><td>PAPER CRAFT , LITTLE BIRDIE       </td><td>United Kingdom</td><td>168469.60</td><td>80995</td></tr>\n",
       "\t<tr><td>22423 </td><td>REGENCY CAKESTAND 3 TIER          </td><td>United Kingdom</td><td>142273.29</td><td>11068</td></tr>\n",
       "\t<tr><td>85123A</td><td>WHITE HANGING HEART T-LIGHT HOLDER</td><td>United Kingdom</td><td> 98545.24</td><td>35448</td></tr>\n",
       "\t<tr><td>47566 </td><td>PARTY BUNTING                     </td><td>United Kingdom</td><td> 93658.53</td><td>16973</td></tr>\n",
       "\t<tr><td>85099B</td><td>JUMBO BAG RED RETROSPOT           </td><td>United Kingdom</td><td> 86471.34</td><td>44264</td></tr>\n",
       "\t<tr><td>23166 </td><td>MEDIUM CERAMIC TOP STORAGE JAR    </td><td>United Kingdom</td><td> 80575.63</td><td>77036</td></tr>\n",
       "\t<tr><td>22086 </td><td>PAPER CHAIN KIT 50'S CHRISTMAS    </td><td>United Kingdom</td><td> 62742.54</td><td>18530</td></tr>\n",
       "\t<tr><td>84879 </td><td>ASSORTED COLOUR BIRD ORNAMENT     </td><td>United Kingdom</td><td> 54756.79</td><td>33735</td></tr>\n",
       "\t<tr><td>79321 </td><td>CHILLI LIGHTS                     </td><td>United Kingdom</td><td> 53336.56</td><td>10154</td></tr>\n",
       "\t<tr><td>22502 </td><td>PICNIC BASKET WICKER 60 PIECES    </td><td>United Kingdom</td><td> 39619.50</td><td>   61</td></tr>\n",
       "</tbody>\n",
       "</table>\n"
      ],
      "text/latex": [
       "A grouped\\_df: 10 × 5\n",
       "\\begin{tabular}{lllll}\n",
       " StockCode & Description & Country & PurchaseValue & Quantity\\\\\n",
       " <chr> & <chr> & <chr> & <dbl> & <int>\\\\\n",
       "\\hline\n",
       "\t 23843  & PAPER CRAFT , LITTLE BIRDIE        & United Kingdom & 168469.60 & 80995\\\\\n",
       "\t 22423  & REGENCY CAKESTAND 3 TIER           & United Kingdom & 142273.29 & 11068\\\\\n",
       "\t 85123A & WHITE HANGING HEART T-LIGHT HOLDER & United Kingdom &  98545.24 & 35448\\\\\n",
       "\t 47566  & PARTY BUNTING                      & United Kingdom &  93658.53 & 16973\\\\\n",
       "\t 85099B & JUMBO BAG RED RETROSPOT            & United Kingdom &  86471.34 & 44264\\\\\n",
       "\t 23166  & MEDIUM CERAMIC TOP STORAGE JAR     & United Kingdom &  80575.63 & 77036\\\\\n",
       "\t 22086  & PAPER CHAIN KIT 50'S CHRISTMAS     & United Kingdom &  62742.54 & 18530\\\\\n",
       "\t 84879  & ASSORTED COLOUR BIRD ORNAMENT      & United Kingdom &  54756.79 & 33735\\\\\n",
       "\t 79321  & CHILLI LIGHTS                      & United Kingdom &  53336.56 & 10154\\\\\n",
       "\t 22502  & PICNIC BASKET WICKER 60 PIECES     & United Kingdom &  39619.50 &    61\\\\\n",
       "\\end{tabular}\n"
      ],
      "text/markdown": [
       "\n",
       "A grouped_df: 10 × 5\n",
       "\n",
       "| StockCode &lt;chr&gt; | Description &lt;chr&gt; | Country &lt;chr&gt; | PurchaseValue &lt;dbl&gt; | Quantity &lt;int&gt; |\n",
       "|---|---|---|---|---|\n",
       "| 23843  | PAPER CRAFT , LITTLE BIRDIE        | United Kingdom | 168469.60 | 80995 |\n",
       "| 22423  | REGENCY CAKESTAND 3 TIER           | United Kingdom | 142273.29 | 11068 |\n",
       "| 85123A | WHITE HANGING HEART T-LIGHT HOLDER | United Kingdom |  98545.24 | 35448 |\n",
       "| 47566  | PARTY BUNTING                      | United Kingdom |  93658.53 | 16973 |\n",
       "| 85099B | JUMBO BAG RED RETROSPOT            | United Kingdom |  86471.34 | 44264 |\n",
       "| 23166  | MEDIUM CERAMIC TOP STORAGE JAR     | United Kingdom |  80575.63 | 77036 |\n",
       "| 22086  | PAPER CHAIN KIT 50'S CHRISTMAS     | United Kingdom |  62742.54 | 18530 |\n",
       "| 84879  | ASSORTED COLOUR BIRD ORNAMENT      | United Kingdom |  54756.79 | 33735 |\n",
       "| 79321  | CHILLI LIGHTS                      | United Kingdom |  53336.56 | 10154 |\n",
       "| 22502  | PICNIC BASKET WICKER 60 PIECES     | United Kingdom |  39619.50 |    61 |\n",
       "\n"
      ],
      "text/plain": [
       "   StockCode Description                        Country        PurchaseValue\n",
       "1  23843     PAPER CRAFT , LITTLE BIRDIE        United Kingdom 168469.60    \n",
       "2  22423     REGENCY CAKESTAND 3 TIER           United Kingdom 142273.29    \n",
       "3  85123A    WHITE HANGING HEART T-LIGHT HOLDER United Kingdom  98545.24    \n",
       "4  47566     PARTY BUNTING                      United Kingdom  93658.53    \n",
       "5  85099B    JUMBO BAG RED RETROSPOT            United Kingdom  86471.34    \n",
       "6  23166     MEDIUM CERAMIC TOP STORAGE JAR     United Kingdom  80575.63    \n",
       "7  22086     PAPER CHAIN KIT 50'S CHRISTMAS     United Kingdom  62742.54    \n",
       "8  84879     ASSORTED COLOUR BIRD ORNAMENT      United Kingdom  54756.79    \n",
       "9  79321     CHILLI LIGHTS                      United Kingdom  53336.56    \n",
       "10 22502     PICNIC BASKET WICKER 60 PIECES     United Kingdom  39619.50    \n",
       "   Quantity\n",
       "1  80995   \n",
       "2  11068   \n",
       "3  35448   \n",
       "4  16973   \n",
       "5  44264   \n",
       "6  77036   \n",
       "7  18530   \n",
       "8  33735   \n",
       "9  10154   \n",
       "10    61   "
      ]
     },
     "metadata": {},
     "output_type": "display_data"
    }
   ],
   "source": [
    "# Insight 3.1: Relação de produtos mais vendidos dentro do país com maior volume de vendas (Reino Unido).\n",
    "insight3.1 <- df %>% select(StockCode, Description,PurchaseValue, Country,Quantity)  %>% \n",
    "    filter( PurchaseValue > 0, Country == \"United Kingdom\") %>% \n",
    "    group_by(StockCode, Description, Country) %>% \n",
    "    summarise(PurchaseValue = sum(PurchaseValue), Quantity = sum(Quantity)) %>% \n",
    "    arrange(desc(PurchaseValue))  %>% \n",
    "    head(10)\n",
    "insight3.1 "
   ]
  },
  {
   "cell_type": "code",
   "execution_count": 263,
   "metadata": {
    "vscode": {
     "languageId": "r"
    }
   },
   "outputs": [],
   "source": [
    "plotInsight3.1 <- ggplot(data = insight3.1, aes(x = reorder(Description, -PurchaseValue), y = PurchaseValue, fill = Description))+\n",
    "    geom_bar(stat='identity')+\n",
    "    theme( plot.title = element_text(hjust = 0.5, size = 24),axis.text.y = element_text(size = 20, hjust = 1), , axis.text.x = element_text(angle = 80, size = 20, hjust = 1),panel.background = element_rect(fill = 'grey'),) +\n",
    "    scale_fill_manual(values = pinkColors)+\n",
    "    labs(title=\"Insight 3.1: Os 10 Items mais vendidos no Reino Unido \",x =\"Description\", y = \"PurchaseValue\",fill=\"none\") +\n",
    "    guides(fill=\"none\")"
   ]
  },
  {
   "cell_type": "code",
   "execution_count": 264,
   "metadata": {
    "vscode": {
     "languageId": "r"
    }
   },
   "outputs": [
    {
     "name": "stderr",
     "output_type": "stream",
     "text": [
      "\u001b[1m\u001b[22m`summarise()` has grouped output by 'StockCode', 'Description'. You can\n",
      "override using the `.groups` argument.\n"
     ]
    },
    {
     "data": {
      "text/html": [
       "<table class=\"dataframe\">\n",
       "<caption>A grouped_df: 10 × 5</caption>\n",
       "<thead>\n",
       "\t<tr><th scope=col>StockCode</th><th scope=col>Description</th><th scope=col>Country</th><th scope=col>PurchaseValue</th><th scope=col>Quantity</th></tr>\n",
       "\t<tr><th scope=col>&lt;chr&gt;</th><th scope=col>&lt;chr&gt;</th><th scope=col>&lt;chr&gt;</th><th scope=col>&lt;dbl&gt;</th><th scope=col>&lt;int&gt;</th></tr>\n",
       "</thead>\n",
       "<tbody>\n",
       "\t<tr><td>PADS  </td><td>PADS TO MATCH ALL CUSHIONS         </td><td>United Kingdom</td><td>0.003</td><td>3</td></tr>\n",
       "\t<tr><td>84227 </td><td>HEN HOUSE W CHICK IN NEST          </td><td>United Kingdom</td><td>0.420</td><td>1</td></tr>\n",
       "\t<tr><td>51014c</td><td>FEATHER PEN,COAL BLACK             </td><td>United Kingdom</td><td>0.830</td><td>1</td></tr>\n",
       "\t<tr><td>21268 </td><td>VINTAGE BLUE TINSEL REEL           </td><td>United Kingdom</td><td>0.840</td><td>2</td></tr>\n",
       "\t<tr><td>90084 </td><td>PINK CRYSTAL GUITAR PHONE CHARM    </td><td>United Kingdom</td><td>0.850</td><td>1</td></tr>\n",
       "\t<tr><td>84201C</td><td>HAPPY BIRTHDAY CARD TEDDY/CAKE     </td><td>United Kingdom</td><td>0.950</td><td>5</td></tr>\n",
       "\t<tr><td>84206B</td><td>CAT WITH SUNGLASSES BLANK CARD     </td><td>United Kingdom</td><td>0.950</td><td>5</td></tr>\n",
       "\t<tr><td>84990 </td><td>60 GOLD AND SILVER FAIRY CAKE CASES</td><td>United Kingdom</td><td>1.100</td><td>2</td></tr>\n",
       "\t<tr><td>21009 </td><td>ETCHED GLASS STAR TREE DECORATION  </td><td>United Kingdom</td><td>1.250</td><td>1</td></tr>\n",
       "\t<tr><td>35597A</td><td>DUSTY PINK CHRISTMAS TREE 30CM     </td><td>United Kingdom</td><td>1.250</td><td>1</td></tr>\n",
       "</tbody>\n",
       "</table>\n"
      ],
      "text/latex": [
       "A grouped\\_df: 10 × 5\n",
       "\\begin{tabular}{lllll}\n",
       " StockCode & Description & Country & PurchaseValue & Quantity\\\\\n",
       " <chr> & <chr> & <chr> & <dbl> & <int>\\\\\n",
       "\\hline\n",
       "\t PADS   & PADS TO MATCH ALL CUSHIONS          & United Kingdom & 0.003 & 3\\\\\n",
       "\t 84227  & HEN HOUSE W CHICK IN NEST           & United Kingdom & 0.420 & 1\\\\\n",
       "\t 51014c & FEATHER PEN,COAL BLACK              & United Kingdom & 0.830 & 1\\\\\n",
       "\t 21268  & VINTAGE BLUE TINSEL REEL            & United Kingdom & 0.840 & 2\\\\\n",
       "\t 90084  & PINK CRYSTAL GUITAR PHONE CHARM     & United Kingdom & 0.850 & 1\\\\\n",
       "\t 84201C & HAPPY BIRTHDAY CARD TEDDY/CAKE      & United Kingdom & 0.950 & 5\\\\\n",
       "\t 84206B & CAT WITH SUNGLASSES BLANK CARD      & United Kingdom & 0.950 & 5\\\\\n",
       "\t 84990  & 60 GOLD AND SILVER FAIRY CAKE CASES & United Kingdom & 1.100 & 2\\\\\n",
       "\t 21009  & ETCHED GLASS STAR TREE DECORATION   & United Kingdom & 1.250 & 1\\\\\n",
       "\t 35597A & DUSTY PINK CHRISTMAS TREE 30CM      & United Kingdom & 1.250 & 1\\\\\n",
       "\\end{tabular}\n"
      ],
      "text/markdown": [
       "\n",
       "A grouped_df: 10 × 5\n",
       "\n",
       "| StockCode &lt;chr&gt; | Description &lt;chr&gt; | Country &lt;chr&gt; | PurchaseValue &lt;dbl&gt; | Quantity &lt;int&gt; |\n",
       "|---|---|---|---|---|\n",
       "| PADS   | PADS TO MATCH ALL CUSHIONS          | United Kingdom | 0.003 | 3 |\n",
       "| 84227  | HEN HOUSE W CHICK IN NEST           | United Kingdom | 0.420 | 1 |\n",
       "| 51014c | FEATHER PEN,COAL BLACK              | United Kingdom | 0.830 | 1 |\n",
       "| 21268  | VINTAGE BLUE TINSEL REEL            | United Kingdom | 0.840 | 2 |\n",
       "| 90084  | PINK CRYSTAL GUITAR PHONE CHARM     | United Kingdom | 0.850 | 1 |\n",
       "| 84201C | HAPPY BIRTHDAY CARD TEDDY/CAKE      | United Kingdom | 0.950 | 5 |\n",
       "| 84206B | CAT WITH SUNGLASSES BLANK CARD      | United Kingdom | 0.950 | 5 |\n",
       "| 84990  | 60 GOLD AND SILVER FAIRY CAKE CASES | United Kingdom | 1.100 | 2 |\n",
       "| 21009  | ETCHED GLASS STAR TREE DECORATION   | United Kingdom | 1.250 | 1 |\n",
       "| 35597A | DUSTY PINK CHRISTMAS TREE 30CM      | United Kingdom | 1.250 | 1 |\n",
       "\n"
      ],
      "text/plain": [
       "   StockCode Description                         Country        PurchaseValue\n",
       "1  PADS      PADS TO MATCH ALL CUSHIONS          United Kingdom 0.003        \n",
       "2  84227     HEN HOUSE W CHICK IN NEST           United Kingdom 0.420        \n",
       "3  51014c    FEATHER PEN,COAL BLACK              United Kingdom 0.830        \n",
       "4  21268     VINTAGE BLUE TINSEL REEL            United Kingdom 0.840        \n",
       "5  90084     PINK CRYSTAL GUITAR PHONE CHARM     United Kingdom 0.850        \n",
       "6  84201C    HAPPY BIRTHDAY CARD TEDDY/CAKE      United Kingdom 0.950        \n",
       "7  84206B    CAT WITH SUNGLASSES BLANK CARD      United Kingdom 0.950        \n",
       "8  84990     60 GOLD AND SILVER FAIRY CAKE CASES United Kingdom 1.100        \n",
       "9  21009     ETCHED GLASS STAR TREE DECORATION   United Kingdom 1.250        \n",
       "10 35597A    DUSTY PINK CHRISTMAS TREE 30CM      United Kingdom 1.250        \n",
       "   Quantity\n",
       "1  3       \n",
       "2  1       \n",
       "3  1       \n",
       "4  2       \n",
       "5  1       \n",
       "6  5       \n",
       "7  5       \n",
       "8  2       \n",
       "9  1       \n",
       "10 1       "
      ]
     },
     "metadata": {},
     "output_type": "display_data"
    }
   ],
   "source": [
    "\n",
    "# Insight 3.2: Relação de produtos que tiveram os menores valores de compra dentro do país com maior volume de vendas (Reino Unido).\n",
    "\n",
    "insight3.2 <- df %>% select(StockCode, Description,PurchaseValue, Country,Quantity)  %>% \n",
    "    filter( PurchaseValue > 0, Country == \"United Kingdom\") %>% \n",
    "    group_by(StockCode, Description,Country) %>% \n",
    "    summarise(PurchaseValue = sum(PurchaseValue), Quantity = sum(Quantity)) %>% \n",
    "    arrange(PurchaseValue) %>% \n",
    "    head(10)\n",
    "insight3.2 "
   ]
  },
  {
   "cell_type": "code",
   "execution_count": 265,
   "metadata": {
    "vscode": {
     "languageId": "r"
    }
   },
   "outputs": [],
   "source": [
    "plotInsight3.2 <- ggplot(data = insight3.2, aes(x = reorder(Description, PurchaseValue), y = PurchaseValue, fill = Description))+\n",
    "    geom_bar(stat='identity')+\n",
    "    theme( plot.title = element_text(hjust = 0.5, size = 24),axis.text.y = element_text(size = 20, hjust = 1), , axis.text.x = element_text(angle = 80, size = 20, hjust = 1),panel.background = element_rect(fill = 'grey'),) +\n",
    "    scale_fill_manual(values = pinkColors)+\n",
    "    labs(title=\"Insight 3.2: Os 10 Items com menor valor de compra no Reino Unido \",x =\"Description\", y = \"PurchaseValue\",fill=\"none\") +\n",
    "    guides(fill=\"none\")"
   ]
  },
  {
   "cell_type": "code",
   "execution_count": 266,
   "metadata": {
    "vscode": {
     "languageId": "r"
    }
   },
   "outputs": [
    {
     "name": "stderr",
     "output_type": "stream",
     "text": [
      "\u001b[1m\u001b[22m`summarise()` has grouped output by 'StockCode', 'Description'. You can\n",
      "override using the `.groups` argument.\n"
     ]
    },
    {
     "data": {
      "text/html": [
       "<table class=\"dataframe\">\n",
       "<caption>A grouped_df: 10 × 5</caption>\n",
       "<thead>\n",
       "\t<tr><th scope=col>StockCode</th><th scope=col>Description</th><th scope=col>Country</th><th scope=col>PurchaseValue</th><th scope=col>Quantity</th></tr>\n",
       "\t<tr><th scope=col>&lt;chr&gt;</th><th scope=col>&lt;chr&gt;</th><th scope=col>&lt;chr&gt;</th><th scope=col>&lt;dbl&gt;</th><th scope=col>&lt;int&gt;</th></tr>\n",
       "</thead>\n",
       "<tbody>\n",
       "\t<tr><td>20703</td><td>BLUE PADDED SOFT MOBILE          </td><td>United Kingdom</td><td> 4.25</td><td>1</td></tr>\n",
       "\t<tr><td>20860</td><td>GOLD COSMETICS BAG WITH BUTTERFLY</td><td>United Kingdom</td><td> 2.10</td><td>1</td></tr>\n",
       "\t<tr><td>21009</td><td>ETCHED GLASS STAR TREE DECORATION</td><td>United Kingdom</td><td> 1.25</td><td>1</td></tr>\n",
       "\t<tr><td>21120</td><td>*Boombox Ipod Classic            </td><td>United Kingdom</td><td>16.98</td><td>1</td></tr>\n",
       "\t<tr><td>21160</td><td>KEEP OUT GIRLS DOOR HANGER       </td><td>United Kingdom</td><td> 3.36</td><td>1</td></tr>\n",
       "\t<tr><td>21310</td><td>CAPIZ CHANDELIER                 </td><td>United Kingdom</td><td>29.95</td><td>1</td></tr>\n",
       "\t<tr><td>21410</td><td>COUNTRY COTTAGE  DOORSTOP GREEN  </td><td>United Kingdom</td><td> 8.47</td><td>1</td></tr>\n",
       "\t<tr><td>21414</td><td>SCALLOP SHELL SOAP DISH          </td><td>United Kingdom</td><td> 2.10</td><td>1</td></tr>\n",
       "\t<tr><td>21491</td><td>SET OF THREE VINTAGE GIFT WRAPS  </td><td>United Kingdom</td><td> 1.95</td><td>1</td></tr>\n",
       "\t<tr><td>21839</td><td>MUMMY MOUSE RED GINGHAM RIBBON   </td><td>United Kingdom</td><td> 5.45</td><td>1</td></tr>\n",
       "</tbody>\n",
       "</table>\n"
      ],
      "text/latex": [
       "A grouped\\_df: 10 × 5\n",
       "\\begin{tabular}{lllll}\n",
       " StockCode & Description & Country & PurchaseValue & Quantity\\\\\n",
       " <chr> & <chr> & <chr> & <dbl> & <int>\\\\\n",
       "\\hline\n",
       "\t 20703 & BLUE PADDED SOFT MOBILE           & United Kingdom &  4.25 & 1\\\\\n",
       "\t 20860 & GOLD COSMETICS BAG WITH BUTTERFLY & United Kingdom &  2.10 & 1\\\\\n",
       "\t 21009 & ETCHED GLASS STAR TREE DECORATION & United Kingdom &  1.25 & 1\\\\\n",
       "\t 21120 & *Boombox Ipod Classic             & United Kingdom & 16.98 & 1\\\\\n",
       "\t 21160 & KEEP OUT GIRLS DOOR HANGER        & United Kingdom &  3.36 & 1\\\\\n",
       "\t 21310 & CAPIZ CHANDELIER                  & United Kingdom & 29.95 & 1\\\\\n",
       "\t 21410 & COUNTRY COTTAGE  DOORSTOP GREEN   & United Kingdom &  8.47 & 1\\\\\n",
       "\t 21414 & SCALLOP SHELL SOAP DISH           & United Kingdom &  2.10 & 1\\\\\n",
       "\t 21491 & SET OF THREE VINTAGE GIFT WRAPS   & United Kingdom &  1.95 & 1\\\\\n",
       "\t 21839 & MUMMY MOUSE RED GINGHAM RIBBON    & United Kingdom &  5.45 & 1\\\\\n",
       "\\end{tabular}\n"
      ],
      "text/markdown": [
       "\n",
       "A grouped_df: 10 × 5\n",
       "\n",
       "| StockCode &lt;chr&gt; | Description &lt;chr&gt; | Country &lt;chr&gt; | PurchaseValue &lt;dbl&gt; | Quantity &lt;int&gt; |\n",
       "|---|---|---|---|---|\n",
       "| 20703 | BLUE PADDED SOFT MOBILE           | United Kingdom |  4.25 | 1 |\n",
       "| 20860 | GOLD COSMETICS BAG WITH BUTTERFLY | United Kingdom |  2.10 | 1 |\n",
       "| 21009 | ETCHED GLASS STAR TREE DECORATION | United Kingdom |  1.25 | 1 |\n",
       "| 21120 | *Boombox Ipod Classic             | United Kingdom | 16.98 | 1 |\n",
       "| 21160 | KEEP OUT GIRLS DOOR HANGER        | United Kingdom |  3.36 | 1 |\n",
       "| 21310 | CAPIZ CHANDELIER                  | United Kingdom | 29.95 | 1 |\n",
       "| 21410 | COUNTRY COTTAGE  DOORSTOP GREEN   | United Kingdom |  8.47 | 1 |\n",
       "| 21414 | SCALLOP SHELL SOAP DISH           | United Kingdom |  2.10 | 1 |\n",
       "| 21491 | SET OF THREE VINTAGE GIFT WRAPS   | United Kingdom |  1.95 | 1 |\n",
       "| 21839 | MUMMY MOUSE RED GINGHAM RIBBON    | United Kingdom |  5.45 | 1 |\n",
       "\n"
      ],
      "text/plain": [
       "   StockCode Description                       Country        PurchaseValue\n",
       "1  20703     BLUE PADDED SOFT MOBILE           United Kingdom  4.25        \n",
       "2  20860     GOLD COSMETICS BAG WITH BUTTERFLY United Kingdom  2.10        \n",
       "3  21009     ETCHED GLASS STAR TREE DECORATION United Kingdom  1.25        \n",
       "4  21120     *Boombox Ipod Classic             United Kingdom 16.98        \n",
       "5  21160     KEEP OUT GIRLS DOOR HANGER        United Kingdom  3.36        \n",
       "6  21310     CAPIZ CHANDELIER                  United Kingdom 29.95        \n",
       "7  21410     COUNTRY COTTAGE  DOORSTOP GREEN   United Kingdom  8.47        \n",
       "8  21414     SCALLOP SHELL SOAP DISH           United Kingdom  2.10        \n",
       "9  21491     SET OF THREE VINTAGE GIFT WRAPS   United Kingdom  1.95        \n",
       "10 21839     MUMMY MOUSE RED GINGHAM RIBBON    United Kingdom  5.45        \n",
       "   Quantity\n",
       "1  1       \n",
       "2  1       \n",
       "3  1       \n",
       "4  1       \n",
       "5  1       \n",
       "6  1       \n",
       "7  1       \n",
       "8  1       \n",
       "9  1       \n",
       "10 1       "
      ]
     },
     "metadata": {},
     "output_type": "display_data"
    }
   ],
   "source": [
    "# Insight 3.3: Relação dos produtos menos comprados (Quantidade) dentro do país com maior volume de vendas (Reino Unido).\n",
    "# OBS: Existem cerca de 86 produtos que só venderam 1 unidade.\n",
    "insight3.3 <- df %>% select(StockCode, Description,PurchaseValue, Country,Quantity)  %>% \n",
    "    filter( PurchaseValue > 0, Country == \"United Kingdom\") %>% \n",
    "    group_by(StockCode, Description,Country) %>% \n",
    "    summarise(PurchaseValue = sum(PurchaseValue), Quantity = sum(Quantity)) %>% \n",
    "    arrange(Quantity)  %>% \n",
    "    head(10)\n",
    "insight3.3"
   ]
  },
  {
   "cell_type": "code",
   "execution_count": 267,
   "metadata": {
    "vscode": {
     "languageId": "r"
    }
   },
   "outputs": [
    {
     "data": {
      "text/html": [
       "<strong>png:</strong> 2"
      ],
      "text/latex": [
       "\\textbf{png:} 2"
      ],
      "text/markdown": [
       "**png:** 2"
      ],
      "text/plain": [
       "png \n",
       "  2 "
      ]
     },
     "metadata": {},
     "output_type": "display_data"
    },
    {
     "data": {
      "text/html": [
       "<strong>png:</strong> 2"
      ],
      "text/latex": [
       "\\textbf{png:} 2"
      ],
      "text/markdown": [
       "**png:** 2"
      ],
      "text/plain": [
       "png \n",
       "  2 "
      ]
     },
     "metadata": {},
     "output_type": "display_data"
    },
    {
     "data": {
      "text/html": [
       "<strong>png:</strong> 2"
      ],
      "text/latex": [
       "\\textbf{png:} 2"
      ],
      "text/markdown": [
       "**png:** 2"
      ],
      "text/plain": [
       "png \n",
       "  2 "
      ]
     },
     "metadata": {},
     "output_type": "display_data"
    },
    {
     "data": {
      "text/html": [
       "<strong>png:</strong> 2"
      ],
      "text/latex": [
       "\\textbf{png:} 2"
      ],
      "text/markdown": [
       "**png:** 2"
      ],
      "text/plain": [
       "png \n",
       "  2 "
      ]
     },
     "metadata": {},
     "output_type": "display_data"
    },
    {
     "data": {
      "text/html": [
       "<strong>png:</strong> 2"
      ],
      "text/latex": [
       "\\textbf{png:} 2"
      ],
      "text/markdown": [
       "**png:** 2"
      ],
      "text/plain": [
       "png \n",
       "  2 "
      ]
     },
     "metadata": {},
     "output_type": "display_data"
    },
    {
     "data": {
      "text/html": [
       "<strong>png:</strong> 2"
      ],
      "text/latex": [
       "\\textbf{png:} 2"
      ],
      "text/markdown": [
       "**png:** 2"
      ],
      "text/plain": [
       "png \n",
       "  2 "
      ]
     },
     "metadata": {},
     "output_type": "display_data"
    }
   ],
   "source": [
    "# Plot dos Insights em jpeg\n",
    "jpeg(file = \"insight1.jpeg\", width=1280, height=720)\n",
    "plotInsight1\n",
    "dev.off()\n",
    "\n",
    "jpeg(file = \"insight1.1.jpeg\", width=1280, height=720)\n",
    "plotInsight1.1\n",
    "dev.off()\n",
    "\n",
    "jpeg(file = \"insight2.jpeg\", width=1280, height=720)\n",
    "plotInsight2\n",
    "dev.off()\n",
    "\n",
    "jpeg(file = \"insight3_map.jpeg\", width=1280, height=720)\n",
    "plotInsight3\n",
    "dev.off()\n",
    "\n",
    "jpeg(file = \"insight3.1.jpeg\", width=1280, height=900)\n",
    "plotInsight3.1\n",
    "dev.off()\n",
    "\n",
    "jpeg(file = \"insight3.2.jpeg\", width=1280, height=900)\n",
    "plotInsight3.2\n",
    "dev.off()\n",
    "\n",
    "# Salvando as alterações para serem usadas futuramente\n",
    "write.csv(df,\"../teste_dados_ecommerce_tratado.csv\", row.names = FALSE)"
   ]
  }
 ],
 "metadata": {
  "interpreter": {
   "hash": "b89b5cfaba6639976dc87ff2fec6d58faec662063367e2c229c520fe71072417"
  },
  "kernelspec": {
   "display_name": "R",
   "language": "R",
   "name": "ir"
  },
  "language_info": {
   "codemirror_mode": "r",
   "file_extension": ".r",
   "mimetype": "text/x-r-source",
   "name": "R",
   "pygments_lexer": "r",
   "version": "4.1.3"
  },
  "orig_nbformat": 4
 },
 "nbformat": 4,
 "nbformat_minor": 2
}
